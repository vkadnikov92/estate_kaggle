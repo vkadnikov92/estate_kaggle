{
 "cells": [
  {
   "cell_type": "code",
   "execution_count": 1,
   "metadata": {},
   "outputs": [],
   "source": [
    "import numpy as np\n",
    "import pandas as pd"
   ]
  },
  {
   "cell_type": "markdown",
   "metadata": {},
   "source": [
    "Функция выгрузки результатов"
   ]
  },
  {
   "cell_type": "code",
   "execution_count": 2,
   "metadata": {},
   "outputs": [],
   "source": [
    "def res_2_csv(id_column, predictions_column, file_name='submission.csv'):\n",
    "    # Создаем DataFrame из переданных столбцов\n",
    "    df = pd.DataFrame({ 'Id': id_column, 'SalePrice': predictions_column })\n",
    "    # Сохраняем DataFrame в CSV-файл\n",
    "    df.to_csv(file_name, index=False)"
   ]
  },
  {
   "cell_type": "markdown",
   "metadata": {},
   "source": [
    "Функция перебора фичей для модели"
   ]
  },
  {
   "cell_type": "code",
   "execution_count": 3,
   "metadata": {},
   "outputs": [],
   "source": [
    "def run_model_and_get_predictions(feature_columns, model, df):\n",
    "    # Выбираем только указанные столбцы (фичи) из датафрейма X\n",
    "    X_features = df[feature_columns]\n",
    "    \n",
    "    # Прогоняем модель и получаем предсказания\n",
    "    predictions = model.predict(X_features)\n",
    "    \n",
    "    # Создаем DataFrame с результатами\n",
    "    result_df = pd.DataFrame({'Prediction': predictions})\n",
    "    \n",
    "    return result_df"
   ]
  },
  {
   "cell_type": "markdown",
   "metadata": {},
   "source": [
    "Оценка фичи на нулевой стадии (решаем удалить или нет, если нет - как с ней работать) "
   ]
  },
  {
   "cell_type": "code",
   "execution_count": 1,
   "metadata": {},
   "outputs": [],
   "source": [
    "def col_analytics(col):\n",
    "    print(f'Число NaN: {subm_df[col].isna().sum()}')\n",
    "    print(f'Число уникальный значений: {subm_df[col].nunique()}')\n",
    "    print(subm_df[col].value_counts())\n",
    "    sns.histplot(subm_df[col])"
   ]
  },
  {
   "cell_type": "markdown",
   "metadata": {},
   "source": [
    "оценка параметров модели"
   ]
  },
  {
   "cell_type": "code",
   "execution_count": null,
   "metadata": {},
   "outputs": [],
   "source": [
    "def get_score(model, X, y):\n",
    "    model.fit(X, y.ravel())\n",
    "    print(f'Лучшее значение метрики {model.best_score_}')"
   ]
  },
  {
   "cell_type": "markdown",
   "metadata": {},
   "source": [
    "просто не забыть"
   ]
  },
  {
   "cell_type": "code",
   "execution_count": null,
   "metadata": {},
   "outputs": [],
   "source": [
    "\n",
    "dict_counts = {}\n",
    "for col in subm_df.columns.to_list()[40:]:\n",
    "    dict_counts[col] = subm_df[col].value_counts()\n",
    "\n",
    "# Преобразование словаря в DataFrame\n",
    "df_counts = pd.DataFrame(dict_counts)\n",
    "\n",
    "# Сохранение DataFrame в файл TXT с разделителем табуляции\n",
    "file_name = \"result_counts.txt\"\n",
    "df_counts.to_csv(file_name, sep='\\t', index=False)"
   ]
  }
 ],
 "metadata": {
  "kernelspec": {
   "display_name": "base",
   "language": "python",
   "name": "python3"
  },
  "language_info": {
   "codemirror_mode": {
    "name": "ipython",
    "version": 3
   },
   "file_extension": ".py",
   "mimetype": "text/x-python",
   "name": "python",
   "nbconvert_exporter": "python",
   "pygments_lexer": "ipython3",
   "version": "3.10.10"
  },
  "orig_nbformat": 4
 },
 "nbformat": 4,
 "nbformat_minor": 2
}
