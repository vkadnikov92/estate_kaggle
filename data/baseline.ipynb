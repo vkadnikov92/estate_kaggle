{
 "cells": [
  {
   "cell_type": "code",
   "execution_count": 22,
   "metadata": {
    "collapsed": true,
    "ExecuteTime": {
     "end_time": "2023-07-27T09:20:42.560469127Z",
     "start_time": "2023-07-27T09:20:42.512725314Z"
    }
   },
   "outputs": [],
   "source": [
    "import numpy as np\n",
    "import pandas as pd\n",
    "import matplotlib.pyplot as plt\n",
    "import seaborn as sns\n",
    "from sklearn.model_selection import train_test_split\n",
    "from sklearn.metrics import mean_squared_error\n",
    "from catboost import CatBoostRegressor\n",
    "import xgboost\n",
    "from sklearn.model_selection import RandomizedSearchCV"
   ]
  },
  {
   "cell_type": "code",
   "execution_count": 23,
   "outputs": [],
   "source": [
    "df=pd.read_csv('train.csv')"
   ],
   "metadata": {
    "collapsed": false,
    "ExecuteTime": {
     "end_time": "2023-07-27T09:20:42.560631893Z",
     "start_time": "2023-07-27T09:20:42.559481269Z"
    }
   }
  },
  {
   "cell_type": "code",
   "execution_count": 24,
   "outputs": [
    {
     "data": {
      "text/plain": "   Id  MSSubClass MSZoning  LotFrontage  LotArea Street Alley LotShape  \\\n0   1          60       RL         65.0     8450   Pave   NaN      Reg   \n1   2          20       RL         80.0     9600   Pave   NaN      Reg   \n2   3          60       RL         68.0    11250   Pave   NaN      IR1   \n3   4          70       RL         60.0     9550   Pave   NaN      IR1   \n4   5          60       RL         84.0    14260   Pave   NaN      IR1   \n\n  LandContour Utilities  ... PoolArea PoolQC Fence MiscFeature MiscVal MoSold  \\\n0         Lvl    AllPub  ...        0    NaN   NaN         NaN       0      2   \n1         Lvl    AllPub  ...        0    NaN   NaN         NaN       0      5   \n2         Lvl    AllPub  ...        0    NaN   NaN         NaN       0      9   \n3         Lvl    AllPub  ...        0    NaN   NaN         NaN       0      2   \n4         Lvl    AllPub  ...        0    NaN   NaN         NaN       0     12   \n\n  YrSold  SaleType  SaleCondition  SalePrice  \n0   2008        WD         Normal     208500  \n1   2007        WD         Normal     181500  \n2   2008        WD         Normal     223500  \n3   2006        WD        Abnorml     140000  \n4   2008        WD         Normal     250000  \n\n[5 rows x 81 columns]",
      "text/html": "<div>\n<style scoped>\n    .dataframe tbody tr th:only-of-type {\n        vertical-align: middle;\n    }\n\n    .dataframe tbody tr th {\n        vertical-align: top;\n    }\n\n    .dataframe thead th {\n        text-align: right;\n    }\n</style>\n<table border=\"1\" class=\"dataframe\">\n  <thead>\n    <tr style=\"text-align: right;\">\n      <th></th>\n      <th>Id</th>\n      <th>MSSubClass</th>\n      <th>MSZoning</th>\n      <th>LotFrontage</th>\n      <th>LotArea</th>\n      <th>Street</th>\n      <th>Alley</th>\n      <th>LotShape</th>\n      <th>LandContour</th>\n      <th>Utilities</th>\n      <th>...</th>\n      <th>PoolArea</th>\n      <th>PoolQC</th>\n      <th>Fence</th>\n      <th>MiscFeature</th>\n      <th>MiscVal</th>\n      <th>MoSold</th>\n      <th>YrSold</th>\n      <th>SaleType</th>\n      <th>SaleCondition</th>\n      <th>SalePrice</th>\n    </tr>\n  </thead>\n  <tbody>\n    <tr>\n      <th>0</th>\n      <td>1</td>\n      <td>60</td>\n      <td>RL</td>\n      <td>65.0</td>\n      <td>8450</td>\n      <td>Pave</td>\n      <td>NaN</td>\n      <td>Reg</td>\n      <td>Lvl</td>\n      <td>AllPub</td>\n      <td>...</td>\n      <td>0</td>\n      <td>NaN</td>\n      <td>NaN</td>\n      <td>NaN</td>\n      <td>0</td>\n      <td>2</td>\n      <td>2008</td>\n      <td>WD</td>\n      <td>Normal</td>\n      <td>208500</td>\n    </tr>\n    <tr>\n      <th>1</th>\n      <td>2</td>\n      <td>20</td>\n      <td>RL</td>\n      <td>80.0</td>\n      <td>9600</td>\n      <td>Pave</td>\n      <td>NaN</td>\n      <td>Reg</td>\n      <td>Lvl</td>\n      <td>AllPub</td>\n      <td>...</td>\n      <td>0</td>\n      <td>NaN</td>\n      <td>NaN</td>\n      <td>NaN</td>\n      <td>0</td>\n      <td>5</td>\n      <td>2007</td>\n      <td>WD</td>\n      <td>Normal</td>\n      <td>181500</td>\n    </tr>\n    <tr>\n      <th>2</th>\n      <td>3</td>\n      <td>60</td>\n      <td>RL</td>\n      <td>68.0</td>\n      <td>11250</td>\n      <td>Pave</td>\n      <td>NaN</td>\n      <td>IR1</td>\n      <td>Lvl</td>\n      <td>AllPub</td>\n      <td>...</td>\n      <td>0</td>\n      <td>NaN</td>\n      <td>NaN</td>\n      <td>NaN</td>\n      <td>0</td>\n      <td>9</td>\n      <td>2008</td>\n      <td>WD</td>\n      <td>Normal</td>\n      <td>223500</td>\n    </tr>\n    <tr>\n      <th>3</th>\n      <td>4</td>\n      <td>70</td>\n      <td>RL</td>\n      <td>60.0</td>\n      <td>9550</td>\n      <td>Pave</td>\n      <td>NaN</td>\n      <td>IR1</td>\n      <td>Lvl</td>\n      <td>AllPub</td>\n      <td>...</td>\n      <td>0</td>\n      <td>NaN</td>\n      <td>NaN</td>\n      <td>NaN</td>\n      <td>0</td>\n      <td>2</td>\n      <td>2006</td>\n      <td>WD</td>\n      <td>Abnorml</td>\n      <td>140000</td>\n    </tr>\n    <tr>\n      <th>4</th>\n      <td>5</td>\n      <td>60</td>\n      <td>RL</td>\n      <td>84.0</td>\n      <td>14260</td>\n      <td>Pave</td>\n      <td>NaN</td>\n      <td>IR1</td>\n      <td>Lvl</td>\n      <td>AllPub</td>\n      <td>...</td>\n      <td>0</td>\n      <td>NaN</td>\n      <td>NaN</td>\n      <td>NaN</td>\n      <td>0</td>\n      <td>12</td>\n      <td>2008</td>\n      <td>WD</td>\n      <td>Normal</td>\n      <td>250000</td>\n    </tr>\n  </tbody>\n</table>\n<p>5 rows × 81 columns</p>\n</div>"
     },
     "execution_count": 24,
     "metadata": {},
     "output_type": "execute_result"
    }
   ],
   "source": [
    "df.head()"
   ],
   "metadata": {
    "collapsed": false,
    "ExecuteTime": {
     "end_time": "2023-07-27T09:20:42.560792104Z",
     "start_time": "2023-07-27T09:20:42.559590635Z"
    }
   }
  },
  {
   "cell_type": "code",
   "execution_count": 25,
   "outputs": [
    {
     "data": {
      "text/plain": "(1460, 81)"
     },
     "execution_count": 25,
     "metadata": {},
     "output_type": "execute_result"
    }
   ],
   "source": [
    "df.shape"
   ],
   "metadata": {
    "collapsed": false,
    "ExecuteTime": {
     "end_time": "2023-07-27T09:20:42.565616469Z",
     "start_time": "2023-07-27T09:20:42.559763900Z"
    }
   }
  },
  {
   "cell_type": "code",
   "execution_count": 26,
   "outputs": [
    {
     "data": {
      "text/plain": "<bound method DataFrame.info of         Id  MSSubClass MSZoning  LotFrontage  LotArea Street Alley LotShape  \\\n0        1          60       RL         65.0     8450   Pave   NaN      Reg   \n1        2          20       RL         80.0     9600   Pave   NaN      Reg   \n2        3          60       RL         68.0    11250   Pave   NaN      IR1   \n3        4          70       RL         60.0     9550   Pave   NaN      IR1   \n4        5          60       RL         84.0    14260   Pave   NaN      IR1   \n...    ...         ...      ...          ...      ...    ...   ...      ...   \n1455  1456          60       RL         62.0     7917   Pave   NaN      Reg   \n1456  1457          20       RL         85.0    13175   Pave   NaN      Reg   \n1457  1458          70       RL         66.0     9042   Pave   NaN      Reg   \n1458  1459          20       RL         68.0     9717   Pave   NaN      Reg   \n1459  1460          20       RL         75.0     9937   Pave   NaN      Reg   \n\n     LandContour Utilities  ... PoolArea PoolQC  Fence MiscFeature MiscVal  \\\n0            Lvl    AllPub  ...        0    NaN    NaN         NaN       0   \n1            Lvl    AllPub  ...        0    NaN    NaN         NaN       0   \n2            Lvl    AllPub  ...        0    NaN    NaN         NaN       0   \n3            Lvl    AllPub  ...        0    NaN    NaN         NaN       0   \n4            Lvl    AllPub  ...        0    NaN    NaN         NaN       0   \n...          ...       ...  ...      ...    ...    ...         ...     ...   \n1455         Lvl    AllPub  ...        0    NaN    NaN         NaN       0   \n1456         Lvl    AllPub  ...        0    NaN  MnPrv         NaN       0   \n1457         Lvl    AllPub  ...        0    NaN  GdPrv        Shed    2500   \n1458         Lvl    AllPub  ...        0    NaN    NaN         NaN       0   \n1459         Lvl    AllPub  ...        0    NaN    NaN         NaN       0   \n\n     MoSold YrSold  SaleType  SaleCondition  SalePrice  \n0         2   2008        WD         Normal     208500  \n1         5   2007        WD         Normal     181500  \n2         9   2008        WD         Normal     223500  \n3         2   2006        WD        Abnorml     140000  \n4        12   2008        WD         Normal     250000  \n...     ...    ...       ...            ...        ...  \n1455      8   2007        WD         Normal     175000  \n1456      2   2010        WD         Normal     210000  \n1457      5   2010        WD         Normal     266500  \n1458      4   2010        WD         Normal     142125  \n1459      6   2008        WD         Normal     147500  \n\n[1460 rows x 81 columns]>"
     },
     "execution_count": 26,
     "metadata": {},
     "output_type": "execute_result"
    }
   ],
   "source": [
    "df.info"
   ],
   "metadata": {
    "collapsed": false,
    "ExecuteTime": {
     "end_time": "2023-07-27T09:20:42.652538573Z",
     "start_time": "2023-07-27T09:20:42.566194736Z"
    }
   }
  },
  {
   "cell_type": "code",
   "execution_count": 27,
   "outputs": [],
   "source": [
    "df['LotFrontage']=df['LotFrontage'].fillna(df['LotFrontage'].mean())\n",
    "df.drop(['Alley'],axis=1,inplace=True)\n",
    "df['BsmtCond']=df['BsmtCond'].fillna(df['BsmtCond'].mode()[0])\n",
    "df['BsmtQual']=df['BsmtQual'].fillna(df['BsmtQual'].mode()[0])\n",
    "df['FireplaceQu']=df['FireplaceQu'].fillna(df['FireplaceQu'].mode()[0])\n",
    "df['GarageType']=df['GarageType'].fillna(df['GarageType'].mode()[0])\n",
    "df.drop(['GarageYrBlt'],axis=1,inplace=True)\n",
    "df['GarageFinish']=df['GarageFinish'].fillna(df['GarageFinish'].mode()[0])\n",
    "df['GarageQual']=df['GarageQual'].fillna(df['GarageQual'].mode()[0])\n",
    "df['GarageCond']=df['GarageCond'].fillna(df['GarageCond'].mode()[0])\n",
    "df.drop(['PoolQC','Fence','MiscFeature'],axis=1,inplace=True)\n",
    "df.drop(['Id'],axis=1,inplace=True)\n",
    "df['MasVnrType']=df['MasVnrType'].fillna(df['MasVnrType'].mode()[0])\n",
    "df['MasVnrArea']=df['MasVnrArea'].fillna(df['MasVnrArea'].mode()[0])\n",
    "df['BsmtExposure']=df['BsmtExposure'].fillna(df['BsmtExposure'].mode()[0])\n",
    "df['BsmtFinType2']=df['BsmtFinType2'].fillna(df['BsmtFinType2'].mode()[0])"
   ],
   "metadata": {
    "collapsed": false,
    "ExecuteTime": {
     "end_time": "2023-07-27T09:20:42.652898791Z",
     "start_time": "2023-07-27T09:20:42.617630163Z"
    }
   }
  },
  {
   "cell_type": "code",
   "execution_count": 28,
   "outputs": [
    {
     "data": {
      "text/plain": "MSSubClass       0\nMSZoning         0\nLotFrontage      0\nLotArea          0\nStreet           0\n                ..\nMoSold           0\nYrSold           0\nSaleType         0\nSaleCondition    0\nSalePrice        0\nLength: 75, dtype: int64"
     },
     "execution_count": 28,
     "metadata": {},
     "output_type": "execute_result"
    }
   ],
   "source": [
    "df.isnull().sum()"
   ],
   "metadata": {
    "collapsed": false,
    "ExecuteTime": {
     "end_time": "2023-07-27T09:20:42.653127551Z",
     "start_time": "2023-07-27T09:20:42.617785765Z"
    }
   }
  },
  {
   "cell_type": "code",
   "execution_count": 29,
   "outputs": [],
   "source": [
    "df.dropna(inplace=True)"
   ],
   "metadata": {
    "collapsed": false,
    "ExecuteTime": {
     "end_time": "2023-07-27T09:20:42.653537402Z",
     "start_time": "2023-07-27T09:20:42.617854845Z"
    }
   }
  },
  {
   "cell_type": "code",
   "execution_count": 30,
   "outputs": [
    {
     "data": {
      "text/plain": "MSSubClass       0\nMSZoning         0\nLotFrontage      0\nLotArea          0\nStreet           0\n                ..\nMoSold           0\nYrSold           0\nSaleType         0\nSaleCondition    0\nSalePrice        0\nLength: 75, dtype: int64"
     },
     "execution_count": 30,
     "metadata": {},
     "output_type": "execute_result"
    }
   ],
   "source": [
    "df.isnull().sum()"
   ],
   "metadata": {
    "collapsed": false,
    "ExecuteTime": {
     "end_time": "2023-07-27T09:20:42.653757436Z",
     "start_time": "2023-07-27T09:20:42.651501493Z"
    }
   }
  },
  {
   "cell_type": "code",
   "execution_count": 31,
   "outputs": [],
   "source": [
    "columns=['MSZoning','Street','LotShape','LandContour','Utilities','LotConfig','LandSlope','Neighborhood',\n",
    "         'Condition2','BldgType','Condition1','HouseStyle','SaleType',\n",
    "        'SaleCondition','ExterCond',\n",
    "         'ExterQual','Foundation','BsmtQual','BsmtCond','BsmtExposure','BsmtFinType1','BsmtFinType2',\n",
    "        'RoofStyle','RoofMatl','Exterior1st','Exterior2nd','MasVnrType','Heating','HeatingQC',\n",
    "         'CentralAir',\n",
    "         'Electrical','KitchenQual','Functional',\n",
    "         'FireplaceQu','GarageType','GarageFinish','GarageQual','GarageCond','PavedDrive']"
   ],
   "metadata": {
    "collapsed": false,
    "ExecuteTime": {
     "end_time": "2023-07-27T09:20:42.653841895Z",
     "start_time": "2023-07-27T09:20:42.651653268Z"
    }
   }
  },
  {
   "cell_type": "code",
   "execution_count": 32,
   "outputs": [],
   "source": [
    "def category_onehot_multcols(multcolumns):\n",
    "    df_subm=subm_df\n",
    "    i=0\n",
    "    for fields in multcolumns:\n",
    "\n",
    "        print(fields)\n",
    "        df1=pd.get_dummies(subm_df[fields],drop_first=True,dtype=int)\n",
    "\n",
    "        subm_df.drop([fields],axis=1,inplace=True)\n",
    "        if i==0:\n",
    "            df_subm=df1.copy()\n",
    "        else:\n",
    "\n",
    "            df_subm=pd.concat([df_subm,df1],axis=1)\n",
    "        i=i+1\n",
    "\n",
    "\n",
    "    df_subm=pd.concat([subm_df,df_subm],axis=1)\n",
    "\n",
    "    return df_subm"
   ],
   "metadata": {
    "collapsed": false,
    "ExecuteTime": {
     "end_time": "2023-07-27T09:20:42.653930271Z",
     "start_time": "2023-07-27T09:20:42.651706769Z"
    }
   }
  },
  {
   "cell_type": "code",
   "execution_count": 33,
   "outputs": [],
   "source": [
    "test_df=pd.read_csv('formulatedtest.csv')"
   ],
   "metadata": {
    "collapsed": false,
    "ExecuteTime": {
     "end_time": "2023-07-27T09:20:42.654029698Z",
     "start_time": "2023-07-27T09:20:42.651924047Z"
    }
   }
  },
  {
   "cell_type": "code",
   "execution_count": 34,
   "outputs": [],
   "source": [
    "subm_df=pd.concat([df,test_df],axis=0)"
   ],
   "metadata": {
    "collapsed": false,
    "ExecuteTime": {
     "end_time": "2023-07-27T09:20:42.695903390Z",
     "start_time": "2023-07-27T09:20:42.695598246Z"
    }
   }
  },
  {
   "cell_type": "code",
   "execution_count": 35,
   "outputs": [
    {
     "name": "stdout",
     "output_type": "stream",
     "text": [
      "MSZoning\n",
      "Street\n",
      "LotShape\n",
      "LandContour\n",
      "Utilities\n",
      "LotConfig\n",
      "LandSlope\n",
      "Neighborhood\n",
      "Condition2\n",
      "BldgType\n",
      "Condition1\n",
      "HouseStyle\n",
      "SaleType\n",
      "SaleCondition\n",
      "ExterCond\n",
      "ExterQual\n",
      "Foundation\n",
      "BsmtQual\n",
      "BsmtCond\n",
      "BsmtExposure\n",
      "BsmtFinType1\n",
      "BsmtFinType2\n",
      "RoofStyle\n",
      "RoofMatl\n",
      "Exterior1st\n",
      "Exterior2nd\n",
      "MasVnrType\n",
      "Heating\n",
      "HeatingQC\n",
      "CentralAir\n",
      "Electrical\n",
      "KitchenQual\n",
      "Functional\n",
      "FireplaceQu\n",
      "GarageType\n",
      "GarageFinish\n",
      "GarageQual\n",
      "GarageCond\n",
      "PavedDrive\n"
     ]
    }
   ],
   "source": [
    "subm_df=category_onehot_multcols(columns)"
   ],
   "metadata": {
    "collapsed": false,
    "ExecuteTime": {
     "end_time": "2023-07-27T09:20:42.759089999Z",
     "start_time": "2023-07-27T09:20:42.695778124Z"
    }
   }
  },
  {
   "cell_type": "code",
   "execution_count": 36,
   "outputs": [],
   "source": [
    "subm_df =subm_df.loc[:,~subm_df.columns.duplicated()]"
   ],
   "metadata": {
    "collapsed": false,
    "ExecuteTime": {
     "end_time": "2023-07-27T09:20:42.766012560Z",
     "start_time": "2023-07-27T09:20:42.764613999Z"
    }
   }
  },
  {
   "cell_type": "code",
   "execution_count": 37,
   "outputs": [
    {
     "data": {
      "text/plain": "0       208500.0\n1       181500.0\n2       223500.0\n3       140000.0\n4       250000.0\n          ...   \n1454         NaN\n1455         NaN\n1456         NaN\n1457         NaN\n1458         NaN\nName: SalePrice, Length: 2881, dtype: float64"
     },
     "execution_count": 37,
     "metadata": {},
     "output_type": "execute_result"
    }
   ],
   "source": [
    "subm_df['SalePrice']"
   ],
   "metadata": {
    "collapsed": false,
    "ExecuteTime": {
     "end_time": "2023-07-27T09:20:42.776398084Z",
     "start_time": "2023-07-27T09:20:42.766838574Z"
    }
   }
  },
  {
   "cell_type": "code",
   "execution_count": 38,
   "outputs": [
    {
     "name": "stderr",
     "output_type": "stream",
     "text": [
      "/tmp/ipykernel_2934/1630479427.py:3: SettingWithCopyWarning: \n",
      "A value is trying to be set on a copy of a slice from a DataFrame\n",
      "\n",
      "See the caveats in the documentation: https://pandas.pydata.org/pandas-docs/stable/user_guide/indexing.html#returning-a-view-versus-a-copy\n",
      "  df_Test.drop(['SalePrice'],axis=1,inplace=True)\n"
     ]
    }
   ],
   "source": [
    "df_Train=subm_df.iloc[:1422,:]\n",
    "df_Test=subm_df.iloc[1422:,:]\n",
    "df_Test.drop(['SalePrice'],axis=1,inplace=True)\n",
    "X_train=df_Train.drop(['SalePrice'],axis=1)\n",
    "y_train=df_Train['SalePrice']"
   ],
   "metadata": {
    "collapsed": false,
    "ExecuteTime": {
     "end_time": "2023-07-27T09:20:42.796490778Z",
     "start_time": "2023-07-27T09:20:42.778386795Z"
    }
   }
  },
  {
   "cell_type": "code",
   "execution_count": 39,
   "outputs": [],
   "source": [
    "regressor=xgboost.XGBRegressor()\n",
    "booster=['gbtree','gblinear']\n",
    "base_score=[0.25,0.5,0.75,1]"
   ],
   "metadata": {
    "collapsed": false,
    "ExecuteTime": {
     "end_time": "2023-07-27T09:20:42.796621413Z",
     "start_time": "2023-07-27T09:20:42.790797809Z"
    }
   }
  },
  {
   "cell_type": "code",
   "execution_count": 40,
   "outputs": [],
   "source": [
    "n_estimators = [100, 500, 900, 1100, 1500]\n",
    "max_depth = [2, 3, 5, 10, 15]\n",
    "booster=['gbtree','gblinear']\n",
    "learning_rate=[0.05,0.1,0.15,0.20]\n",
    "min_child_weight=[1,2,3,4]\n",
    "\n",
    "hyperparameter_grid = {\n",
    "    'n_estimators': n_estimators,\n",
    "    'max_depth':max_depth,\n",
    "    'learning_rate':learning_rate,\n",
    "    'min_child_weight':min_child_weight,\n",
    "    'booster':booster,\n",
    "    'base_score':base_score\n",
    "    }"
   ],
   "metadata": {
    "collapsed": false,
    "ExecuteTime": {
     "end_time": "2023-07-27T09:20:42.839733313Z",
     "start_time": "2023-07-27T09:20:42.796375050Z"
    }
   }
  },
  {
   "cell_type": "code",
   "execution_count": 41,
   "outputs": [],
   "source": [
    "random_cv = RandomizedSearchCV(estimator=regressor,\n",
    "            param_distributions=hyperparameter_grid,\n",
    "            cv=5, n_iter=50,\n",
    "            scoring = 'neg_mean_absolute_error',n_jobs = 4,\n",
    "            verbose = 5,\n",
    "            return_train_score = True,\n",
    "            random_state=42)"
   ],
   "metadata": {
    "collapsed": false,
    "ExecuteTime": {
     "end_time": "2023-07-27T09:20:42.841247702Z",
     "start_time": "2023-07-27T09:20:42.839938740Z"
    }
   }
  },
  {
   "cell_type": "code",
   "execution_count": 42,
   "outputs": [
    {
     "name": "stdout",
     "output_type": "stream",
     "text": [
      "Fitting 5 folds for each of 50 candidates, totalling 250 fits\n",
      "[12:20:43] WARNING: ../src/learner.cc:767: \n",
      "Parameters: { \"max_depth\", \"min_child_weight\" } are not used.\n",
      "\n",
      "[CV 4/5] END base_score=0.75, booster=gblinear, learning_rate=0.2, max_depth=15, min_child_weight=1, n_estimators=1500;, score=(train=-17314.104, test=-20063.586) total time=   1.5s\n",
      "[CV 1/5] END base_score=1, booster=gbtree, learning_rate=0.1, max_depth=3, min_child_weight=4, n_estimators=1100;, score=(train=-2299.862, test=-15744.004) total time=   2.2s\n",
      "[CV 5/5] END base_score=1, booster=gbtree, learning_rate=0.1, max_depth=3, min_child_weight=4, n_estimators=1100;, score=(train=-2178.146, test=-18345.605) total time=   2.1s\n",
      "[CV 4/5] END base_score=0.5, booster=gbtree, learning_rate=0.05, max_depth=15, min_child_weight=4, n_estimators=900;, score=(train=-13.107, test=-15079.101) total time=   6.7s\n",
      "[CV 3/5] END base_score=0.25, booster=gbtree, learning_rate=0.15, max_depth=2, min_child_weight=3, n_estimators=1500;, score=(train=-3326.262, test=-16483.996) total time=   2.4s\n",
      "[12:20:58] WARNING: ../src/learner.cc:767: \n",
      "Parameters: { \"max_depth\", \"min_child_weight\" } are not used.\n",
      "\n",
      "[CV 1/5] END base_score=0.75, booster=gblinear, learning_rate=0.2, max_depth=15, min_child_weight=1, n_estimators=100;, score=(train=-18587.368, test=-19125.666) total time=   0.1s\n",
      "[12:20:58] WARNING: ../src/learner.cc:767: \n",
      "Parameters: { \"max_depth\", \"min_child_weight\" } are not used.\n",
      "\n",
      "[CV 2/5] END base_score=0.75, booster=gblinear, learning_rate=0.2, max_depth=15, min_child_weight=1, n_estimators=100;, score=(train=-17692.620, test=-22402.180) total time=   0.1s\n",
      "[12:20:59] WARNING: ../src/learner.cc:767: \n",
      "Parameters: { \"max_depth\", \"min_child_weight\" } are not used.\n",
      "\n",
      "[CV 3/5] END base_score=0.75, booster=gblinear, learning_rate=0.2, max_depth=15, min_child_weight=1, n_estimators=100;, score=(train=-17392.912, test=-23063.038) total time=   0.1s\n",
      "[12:20:59] WARNING: ../src/learner.cc:767: \n",
      "Parameters: { \"max_depth\", \"min_child_weight\" } are not used.\n",
      "\n",
      "[CV 4/5] END base_score=0.75, booster=gblinear, learning_rate=0.2, max_depth=15, min_child_weight=1, n_estimators=100;, score=(train=-18470.895, test=-19372.200) total time=   0.1s\n",
      "[12:20:59] WARNING: ../src/learner.cc:767: \n",
      "Parameters: { \"max_depth\", \"min_child_weight\" } are not used.\n",
      "\n",
      "[CV 5/5] END base_score=0.75, booster=gblinear, learning_rate=0.2, max_depth=15, min_child_weight=1, n_estimators=100;, score=(train=-16717.922, test=-22308.785) total time=   0.1s\n",
      "[CV 1/5] END base_score=1, booster=gbtree, learning_rate=0.2, max_depth=2, min_child_weight=3, n_estimators=1500;, score=(train=-2555.167, test=-15817.199) total time=   2.6s\n",
      "[CV 5/5] END base_score=1, booster=gbtree, learning_rate=0.2, max_depth=2, min_child_weight=3, n_estimators=1500;, score=(train=-2625.759, test=-18512.211) total time=   2.6s\n",
      "[CV 4/5] END base_score=1, booster=gbtree, learning_rate=0.1, max_depth=10, min_child_weight=4, n_estimators=500;, score=(train=-14.251, test=-15196.285) total time=   2.8s\n",
      "[CV 3/5] END base_score=0.25, booster=gbtree, learning_rate=0.1, max_depth=2, min_child_weight=1, n_estimators=900;, score=(train=-6694.151, test=-15348.919) total time=   1.3s\n",
      "[CV 2/5] END base_score=0.25, booster=gbtree, learning_rate=0.1, max_depth=15, min_child_weight=3, n_estimators=900;, score=(train=-7.333, test=-17560.112) total time=   7.7s\n",
      "[12:21:16] WARNING: ../src/learner.cc:767: \n",
      "Parameters: { \"max_depth\", \"min_child_weight\" } are not used.\n",
      "\n",
      "[CV 1/5] END base_score=0.5, booster=gblinear, learning_rate=0.15, max_depth=5, min_child_weight=2, n_estimators=900;, score=(train=-17679.698, test=-18790.117) total time=   1.1s\n",
      "[12:21:17] WARNING: ../src/learner.cc:767: \n",
      "Parameters: { \"max_depth\", \"min_child_weight\" } are not used.\n",
      "\n",
      "[CV 3/5] END base_score=0.5, booster=gblinear, learning_rate=0.15, max_depth=5, min_child_weight=2, n_estimators=900;, score=(train=-16427.541, test=-22227.326) total time=   1.0s\n",
      "[CV 1/5] END base_score=0.25, booster=gbtree, learning_rate=0.15, max_depth=3, min_child_weight=2, n_estimators=1500;, score=(train=-590.599, test=-16537.706) total time=   3.6s\n",
      "[CV 4/5] END base_score=0.25, booster=gbtree, learning_rate=0.15, max_depth=3, min_child_weight=2, n_estimators=1500;, score=(train=-532.828, test=-14594.274) total time=   3.0s\n",
      "[12:21:25] WARNING: ../src/learner.cc:767: \n",
      "Parameters: { \"max_depth\", \"min_child_weight\" } are not used.\n",
      "\n",
      "[CV 5/5] END base_score=0.5, booster=gblinear, learning_rate=0.05, max_depth=3, min_child_weight=4, n_estimators=500;, score=(train=-16179.515, test=-21779.160) total time=   0.5s\n",
      "[CV 4/5] END base_score=1, booster=gbtree, learning_rate=0.1, max_depth=15, min_child_weight=1, n_estimators=900;, score=(train=-7.361, test=-16133.617) total time=   7.0s\n",
      "[CV 2/5] END base_score=0.25, booster=gbtree, learning_rate=0.05, max_depth=2, min_child_weight=4, n_estimators=900;, score=(train=-9124.026, test=-17223.771) total time=   1.3s\n",
      "[CV 4/5] END base_score=0.25, booster=gbtree, learning_rate=0.05, max_depth=2, min_child_weight=4, n_estimators=900;, score=(train=-9542.630, test=-13876.426) total time=   1.3s\n",
      "[CV 2/5] END base_score=0.5, booster=gbtree, learning_rate=0.2, max_depth=3, min_child_weight=2, n_estimators=900;, score=(train=-795.952, test=-17503.243) total time=   1.7s\n",
      "[CV 5/5] END base_score=0.5, booster=gbtree, learning_rate=0.2, max_depth=3, min_child_weight=2, n_estimators=900;, score=(train=-896.248, test=-18197.880) total time=   1.7s\n",
      "[CV 5/5] END base_score=0.25, booster=gbtree, learning_rate=0.1, max_depth=10, min_child_weight=3, n_estimators=100;, score=(train=-1827.316, test=-18270.525) total time=   0.6s\n",
      "[12:21:39] WARNING: ../src/learner.cc:767: \n",
      "Parameters: { \"max_depth\", \"min_child_weight\" } are not used.\n",
      "\n",
      "[CV 3/5] END base_score=0.75, booster=gblinear, learning_rate=0.15, max_depth=5, min_child_weight=2, n_estimators=900;, score=(train=-16427.591, test=-22237.700) total time=   1.0s\n",
      "[CV 3/5] END base_score=0.5, booster=gbtree, learning_rate=0.15, max_depth=15, min_child_weight=3, n_estimators=500;, score=(train=-0.200, test=-17894.709) total time=   3.8s\n",
      "[12:21:44] WARNING: ../src/learner.cc:767: \n",
      "Parameters: { \"max_depth\", \"min_child_weight\" } are not used.\n",
      "\n",
      "[CV 1/5] END base_score=0.25, booster=gblinear, learning_rate=0.15, max_depth=2, min_child_weight=2, n_estimators=100;, score=(train=-18701.301, test=-19154.305) total time=   0.1s\n",
      "[12:21:44] WARNING: ../src/learner.cc:767: \n",
      "Parameters: { \"max_depth\", \"min_child_weight\" } are not used.\n",
      "\n",
      "[CV 3/5] END base_score=0.25, booster=gblinear, learning_rate=0.15, max_depth=2, min_child_weight=2, n_estimators=100;, score=(train=-17544.589, test=-23097.412) total time=   0.1s\n",
      "[12:21:44] WARNING: ../src/learner.cc:767: \n",
      "Parameters: { \"max_depth\", \"min_child_weight\" } are not used.\n",
      "\n",
      "[CV 1/5] END base_score=0.5, booster=gblinear, learning_rate=0.15, max_depth=5, min_child_weight=4, n_estimators=900;, score=(train=-17682.905, test=-18797.926) total time=   0.9s\n",
      "[12:21:45] WARNING: ../src/learner.cc:767: \n",
      "Parameters: { \"max_depth\", \"min_child_weight\" } are not used.\n",
      "\n",
      "[CV 4/5] END base_score=0.5, booster=gblinear, learning_rate=0.15, max_depth=5, min_child_weight=4, n_estimators=900;, score=(train=-17456.054, test=-19734.758) total time=   0.9s\n",
      "[12:21:46] WARNING: ../src/learner.cc:767: \n",
      "Parameters: { \"max_depth\", \"min_child_weight\" } are not used.\n",
      "\n",
      "[CV 1/5] END base_score=1, booster=gblinear, learning_rate=0.05, max_depth=15, min_child_weight=4, n_estimators=100;, score=(train=-19431.424, test=-19451.843) total time=   0.1s\n",
      "[12:21:46] WARNING: ../src/learner.cc:767: \n",
      "Parameters: { \"max_depth\", \"min_child_weight\" } are not used.\n",
      "\n",
      "[CV 4/5] END base_score=1, booster=gblinear, learning_rate=0.05, max_depth=15, min_child_weight=4, n_estimators=100;, score=(train=-19242.033, test=-20011.906) total time=   0.1s\n",
      "[12:21:47] WARNING: ../src/learner.cc:767: \n",
      "Parameters: { \"max_depth\", \"min_child_weight\" } are not used.\n",
      "\n",
      "[CV 3/5] END base_score=1, booster=gblinear, learning_rate=0.05, max_depth=5, min_child_weight=3, n_estimators=900;, score=(train=-16742.473, test=-22573.040) total time=   0.9s\n",
      "[12:20:43] WARNING: ../src/learner.cc:767: \n",
      "Parameters: { \"max_depth\", \"min_child_weight\" } are not used.\n",
      "\n",
      "[CV 3/5] END base_score=0.75, booster=gblinear, learning_rate=0.2, max_depth=15, min_child_weight=1, n_estimators=1500;, score=(train=-16295.281, test=-22243.910) total time=   1.7s\n",
      "[CV 2/5] END base_score=1, booster=gbtree, learning_rate=0.1, max_depth=3, min_child_weight=4, n_estimators=1100;, score=(train=-2099.604, test=-16696.822) total time=   2.2s\n",
      "[12:20:47] WARNING: ../src/learner.cc:767: \n",
      "Parameters: { \"max_depth\", \"min_child_weight\" } are not used.\n",
      "\n",
      "[CV 1/5] END base_score=0.75, booster=gblinear, learning_rate=0.1, max_depth=10, min_child_weight=4, n_estimators=500;, score=(train=-17891.168, test=-18499.301) total time=   0.5s\n",
      "[12:20:48] WARNING: ../src/learner.cc:767: \n",
      "Parameters: { \"max_depth\", \"min_child_weight\" } are not used.\n",
      "\n",
      "[CV 3/5] END base_score=0.75, booster=gblinear, learning_rate=0.1, max_depth=10, min_child_weight=4, n_estimators=500;, score=(train=-16660.419, test=-22478.733) total time=   0.6s\n",
      "[CV 1/5] END base_score=0.5, booster=gbtree, learning_rate=0.05, max_depth=15, min_child_weight=4, n_estimators=900;, score=(train=-13.430, test=-16450.090) total time=   6.8s\n",
      "[CV 1/5] END base_score=0.25, booster=gbtree, learning_rate=0.15, max_depth=2, min_child_weight=3, n_estimators=1500;, score=(train=-3404.065, test=-15416.338) total time=   2.3s\n",
      "[CV 4/5] END base_score=0.25, booster=gbtree, learning_rate=0.15, max_depth=2, min_child_weight=3, n_estimators=1500;, score=(train=-3546.892, test=-14674.263) total time=   2.2s\n",
      "[CV 2/5] END base_score=1, booster=gbtree, learning_rate=0.2, max_depth=2, min_child_weight=3, n_estimators=1500;, score=(train=-2463.993, test=-17478.186) total time=   2.7s\n",
      "[CV 1/5] END base_score=1, booster=gbtree, learning_rate=0.1, max_depth=10, min_child_weight=4, n_estimators=500;, score=(train=-12.206, test=-16748.477) total time=   3.1s\n",
      "[CV 5/5] END base_score=1, booster=gbtree, learning_rate=0.1, max_depth=10, min_child_weight=4, n_estimators=500;, score=(train=-52.494, test=-17159.423) total time=   2.5s\n",
      "[CV 5/5] END base_score=0.25, booster=gbtree, learning_rate=0.1, max_depth=2, min_child_weight=1, n_estimators=900;, score=(train=-6591.035, test=-16656.393) total time=   1.5s\n",
      "[CV 4/5] END base_score=0.25, booster=gbtree, learning_rate=0.1, max_depth=15, min_child_weight=3, n_estimators=900;, score=(train=-7.348, test=-15762.160) total time=   7.7s\n",
      "[12:21:17] WARNING: ../src/learner.cc:767: \n",
      "Parameters: { \"max_depth\", \"min_child_weight\" } are not used.\n",
      "\n",
      "[CV 4/5] END base_score=0.5, booster=gblinear, learning_rate=0.15, max_depth=5, min_child_weight=2, n_estimators=900;, score=(train=-17460.974, test=-19691.355) total time=   1.2s\n",
      "[CV 2/5] END base_score=0.25, booster=gbtree, learning_rate=0.15, max_depth=3, min_child_weight=2, n_estimators=1500;, score=(train=-527.973, test=-16989.306) total time=   3.4s\n",
      "[CV 5/5] END base_score=0.25, booster=gbtree, learning_rate=0.15, max_depth=3, min_child_weight=2, n_estimators=1500;, score=(train=-589.259, test=-17653.545) total time=   3.0s\n",
      "[CV 2/5] END base_score=1, booster=gbtree, learning_rate=0.1, max_depth=15, min_child_weight=1, n_estimators=900;, score=(train=-7.377, test=-16963.078) total time=   7.4s\n",
      "[CV 1/5] END base_score=0.25, booster=gbtree, learning_rate=0.05, max_depth=2, min_child_weight=4, n_estimators=900;, score=(train=-9331.436, test=-15315.423) total time=   1.5s\n",
      "[CV 5/5] END base_score=0.25, booster=gbtree, learning_rate=0.05, max_depth=2, min_child_weight=4, n_estimators=900;, score=(train=-8969.131, test=-17527.118) total time=   1.5s\n",
      "[CV 3/5] END base_score=0.5, booster=gbtree, learning_rate=0.2, max_depth=3, min_child_weight=2, n_estimators=900;, score=(train=-854.627, test=-18028.860) total time=   1.9s\n",
      "[CV 1/5] END base_score=0.25, booster=gbtree, learning_rate=0.1, max_depth=10, min_child_weight=3, n_estimators=100;, score=(train=-1224.359, test=-16349.456) total time=   0.5s\n",
      "[CV 3/5] END base_score=0.25, booster=gbtree, learning_rate=0.1, max_depth=10, min_child_weight=3, n_estimators=100;, score=(train=-1660.389, test=-17573.259) total time=   0.6s\n",
      "[12:21:39] WARNING: ../src/learner.cc:767: \n",
      "Parameters: { \"max_depth\", \"min_child_weight\" } are not used.\n",
      "\n",
      "[CV 1/5] END base_score=0.75, booster=gblinear, learning_rate=0.15, max_depth=5, min_child_weight=2, n_estimators=900;, score=(train=-17679.587, test=-18795.821) total time=   0.9s\n",
      "[12:21:40] WARNING: ../src/learner.cc:767: \n",
      "Parameters: { \"max_depth\", \"min_child_weight\" } are not used.\n",
      "\n",
      "[CV 5/5] END base_score=0.75, booster=gblinear, learning_rate=0.15, max_depth=5, min_child_weight=2, n_estimators=900;, score=(train=-15519.324, test=-21450.375) total time=   1.0s\n",
      "[CV 4/5] END base_score=0.5, booster=gbtree, learning_rate=0.15, max_depth=15, min_child_weight=3, n_estimators=500;, score=(train=-7.328, test=-15336.646) total time=   3.7s\n",
      "[12:21:44] WARNING: ../src/learner.cc:767: \n",
      "Parameters: { \"max_depth\", \"min_child_weight\" } are not used.\n",
      "\n",
      "[CV 5/5] END base_score=0.25, booster=gblinear, learning_rate=0.15, max_depth=2, min_child_weight=2, n_estimators=100;, score=(train=-16831.434, test=-22333.401) total time=   0.1s\n",
      "[12:21:45] WARNING: ../src/learner.cc:767: \n",
      "Parameters: { \"max_depth\", \"min_child_weight\" } are not used.\n",
      "\n",
      "[CV 3/5] END base_score=0.5, booster=gblinear, learning_rate=0.15, max_depth=5, min_child_weight=4, n_estimators=900;, score=(train=-16425.984, test=-22235.548) total time=   1.0s\n",
      "[12:21:46] WARNING: ../src/learner.cc:767: \n",
      "Parameters: { \"max_depth\", \"min_child_weight\" } are not used.\n",
      "\n",
      "[CV 1/5] END base_score=0.75, booster=gblinear, learning_rate=0.05, max_depth=2, min_child_weight=2, n_estimators=100;, score=(train=-19431.194, test=-19453.206) total time=   0.1s\n",
      "[12:21:46] WARNING: ../src/learner.cc:767: \n",
      "Parameters: { \"max_depth\", \"min_child_weight\" } are not used.\n",
      "\n",
      "[CV 2/5] END base_score=0.75, booster=gblinear, learning_rate=0.05, max_depth=2, min_child_weight=2, n_estimators=100;, score=(train=-18760.525, test=-23128.378) total time=   0.2s\n",
      "[12:21:46] WARNING: ../src/learner.cc:767: \n",
      "Parameters: { \"max_depth\", \"min_child_weight\" } are not used.\n",
      "\n",
      "[CV 3/5] END base_score=0.75, booster=gblinear, learning_rate=0.05, max_depth=2, min_child_weight=2, n_estimators=100;, score=(train=-18317.672, test=-23556.940) total time=   0.2s\n",
      "[12:21:46] WARNING: ../src/learner.cc:767: \n",
      "Parameters: { \"max_depth\", \"min_child_weight\" } are not used.\n",
      "\n",
      "[CV 4/5] END base_score=0.75, booster=gblinear, learning_rate=0.05, max_depth=2, min_child_weight=2, n_estimators=100;, score=(train=-19233.815, test=-19995.799) total time=   0.1s\n",
      "[12:21:46] WARNING: ../src/learner.cc:767: \n",
      "Parameters: { \"max_depth\", \"min_child_weight\" } are not used.\n",
      "\n",
      "[CV 5/5] END base_score=0.75, booster=gblinear, learning_rate=0.05, max_depth=2, min_child_weight=2, n_estimators=100;, score=(train=-17713.798, test=-22948.105) total time=   0.1s\n",
      "[12:21:46] WARNING: ../src/learner.cc:767: \n",
      "Parameters: { \"max_depth\", \"min_child_weight\" } are not used.\n",
      "\n",
      "[CV 3/5] END base_score=1, booster=gblinear, learning_rate=0.05, max_depth=15, min_child_weight=4, n_estimators=100;, score=(train=-18335.107, test=-23552.009) total time=   0.1s\n",
      "[12:21:47] WARNING: ../src/learner.cc:767: \n",
      "Parameters: { \"max_depth\", \"min_child_weight\" } are not used.\n",
      "\n",
      "[CV 2/5] END base_score=1, booster=gblinear, learning_rate=0.05, max_depth=5, min_child_weight=3, n_estimators=900;, score=(train=-17145.349, test=-21877.095) total time=   0.9s\n",
      "[CV 1/5] END base_score=1, booster=gbtree, learning_rate=0.15, max_depth=5, min_child_weight=2, n_estimators=100;, score=(train=-4681.171, test=-15999.971) total time=   0.3s\n",
      "[CV 3/5] END base_score=1, booster=gbtree, learning_rate=0.15, max_depth=5, min_child_weight=2, n_estimators=100;, score=(train=-4128.959, test=-17354.840) total time=   0.3s\n",
      "[CV 5/5] END base_score=1, booster=gbtree, learning_rate=0.15, max_depth=5, min_child_weight=2, n_estimators=100;, score=(train=-4904.207, test=-17607.785) total time=   0.3s\n",
      "[CV 4/5] END base_score=0.25, booster=gbtree, learning_rate=0.15, max_depth=15, min_child_weight=2, n_estimators=1500;, score=(train=-7.329, test=-16644.011) total time=  12.3s\n",
      "[12:20:43] WARNING: ../src/learner.cc:767: \n",
      "Parameters: { \"max_depth\", \"min_child_weight\" } are not used.\n",
      "\n",
      "[CV 2/5] END base_score=0.75, booster=gblinear, learning_rate=0.2, max_depth=15, min_child_weight=1, n_estimators=1500;, score=(train=-16846.244, test=-21437.941) total time=   1.4s\n",
      "[12:20:45] WARNING: ../src/learner.cc:767: \n",
      "Parameters: { \"max_depth\", \"min_child_weight\" } are not used.\n",
      "\n",
      "[CV 5/5] END base_score=0.75, booster=gblinear, learning_rate=0.2, max_depth=15, min_child_weight=1, n_estimators=1500;, score=(train=-15524.764, test=-21640.484) total time=   1.6s\n",
      "[CV 4/5] END base_score=1, booster=gbtree, learning_rate=0.1, max_depth=3, min_child_weight=4, n_estimators=1100;, score=(train=-2285.208, test=-14281.782) total time=   2.1s\n",
      "[12:20:48] WARNING: ../src/learner.cc:767: \n",
      "Parameters: { \"max_depth\", \"min_child_weight\" } are not used.\n",
      "\n",
      "[CV 5/5] END base_score=0.75, booster=gblinear, learning_rate=0.1, max_depth=10, min_child_weight=4, n_estimators=500;, score=(train=-15710.889, test=-21374.151) total time=   0.5s\n",
      "[CV 3/5] END base_score=0.5, booster=gbtree, learning_rate=0.05, max_depth=15, min_child_weight=4, n_estimators=900;, score=(train=-19.541, test=-18038.904) total time=   6.5s\n",
      "[CV 2/5] END base_score=0.25, booster=gbtree, learning_rate=0.15, max_depth=2, min_child_weight=3, n_estimators=1500;, score=(train=-3415.516, test=-17602.962) total time=   2.3s\n",
      "[CV 5/5] END base_score=0.25, booster=gbtree, learning_rate=0.15, max_depth=2, min_child_weight=3, n_estimators=1500;, score=(train=-3476.357, test=-18145.044) total time=   2.4s\n",
      "[CV 3/5] END base_score=1, booster=gbtree, learning_rate=0.2, max_depth=2, min_child_weight=3, n_estimators=1500;, score=(train=-2521.452, test=-17602.946) total time=   2.7s\n",
      "[CV 2/5] END base_score=1, booster=gbtree, learning_rate=0.1, max_depth=10, min_child_weight=4, n_estimators=500;, score=(train=-13.791, test=-17624.984) total time=   3.0s\n",
      "[CV 1/5] END base_score=0.25, booster=gbtree, learning_rate=0.1, max_depth=2, min_child_weight=1, n_estimators=900;, score=(train=-7030.367, test=-15057.166) total time=   1.7s\n",
      "[CV 4/5] END base_score=0.25, booster=gbtree, learning_rate=0.1, max_depth=2, min_child_weight=1, n_estimators=900;, score=(train=-7251.421, test=-14593.149) total time=   1.5s\n",
      "[CV 3/5] END base_score=0.25, booster=gbtree, learning_rate=0.1, max_depth=15, min_child_weight=3, n_estimators=900;, score=(train=-0.064, test=-17808.863) total time=   7.5s\n",
      "[12:21:17] WARNING: ../src/learner.cc:767: \n",
      "Parameters: { \"max_depth\", \"min_child_weight\" } are not used.\n",
      "\n",
      "[CV 2/5] END base_score=0.5, booster=gblinear, learning_rate=0.15, max_depth=5, min_child_weight=2, n_estimators=900;, score=(train=-16956.501, test=-21576.479) total time=   1.0s\n",
      "[12:21:18] WARNING: ../src/learner.cc:767: \n",
      "Parameters: { \"max_depth\", \"min_child_weight\" } are not used.\n",
      "\n",
      "[CV 5/5] END base_score=0.5, booster=gblinear, learning_rate=0.15, max_depth=5, min_child_weight=2, n_estimators=900;, score=(train=-15524.222, test=-21481.949) total time=   1.2s\n",
      "[CV 3/5] END base_score=0.25, booster=gbtree, learning_rate=0.15, max_depth=3, min_child_weight=2, n_estimators=1500;, score=(train=-579.210, test=-17193.471) total time=   3.2s\n",
      "[12:21:22] WARNING: ../src/learner.cc:767: \n",
      "Parameters: { \"max_depth\", \"min_child_weight\" } are not used.\n",
      "\n",
      "[CV 1/5] END base_score=0.25, booster=gblinear, learning_rate=0.2, max_depth=10, min_child_weight=4, n_estimators=500;, score=(train=-17714.205, test=-18756.938) total time=   0.7s\n",
      "[12:21:23] WARNING: ../src/learner.cc:767: \n",
      "Parameters: { \"max_depth\", \"min_child_weight\" } are not used.\n",
      "\n",
      "[CV 3/5] END base_score=0.25, booster=gblinear, learning_rate=0.2, max_depth=10, min_child_weight=4, n_estimators=500;, score=(train=-16456.368, test=-22279.429) total time=   0.7s\n",
      "[12:21:24] WARNING: ../src/learner.cc:767: \n",
      "Parameters: { \"max_depth\", \"min_child_weight\" } are not used.\n",
      "\n",
      "[CV 5/5] END base_score=0.25, booster=gblinear, learning_rate=0.2, max_depth=10, min_child_weight=4, n_estimators=500;, score=(train=-15569.800, test=-21429.516) total time=   0.6s\n",
      "[12:21:24] WARNING: ../src/learner.cc:767: \n",
      "Parameters: { \"max_depth\", \"min_child_weight\" } are not used.\n",
      "\n",
      "[CV 2/5] END base_score=0.5, booster=gblinear, learning_rate=0.05, max_depth=3, min_child_weight=4, n_estimators=500;, score=(train=-17421.691, test=-22094.008) total time=   0.6s\n",
      "[12:21:25] WARNING: ../src/learner.cc:767: \n",
      "Parameters: { \"max_depth\", \"min_child_weight\" } are not used.\n",
      "\n",
      "[CV 4/5] END base_score=0.5, booster=gblinear, learning_rate=0.05, max_depth=3, min_child_weight=4, n_estimators=500;, score=(train=-18091.701, test=-19240.029) total time=   0.6s\n",
      "[CV 3/5] END base_score=1, booster=gbtree, learning_rate=0.1, max_depth=15, min_child_weight=1, n_estimators=900;, score=(train=-0.094, test=-17856.245) total time=   7.3s\n",
      "[CV 3/5] END base_score=0.25, booster=gbtree, learning_rate=0.05, max_depth=2, min_child_weight=4, n_estimators=900;, score=(train=-9338.569, test=-16238.471) total time=   1.5s\n",
      "[CV 1/5] END base_score=0.5, booster=gbtree, learning_rate=0.2, max_depth=3, min_child_weight=2, n_estimators=900;, score=(train=-1018.735, test=-17085.539) total time=   1.8s\n",
      "[CV 4/5] END base_score=0.5, booster=gbtree, learning_rate=0.2, max_depth=3, min_child_weight=2, n_estimators=900;, score=(train=-891.489, test=-14956.041) total time=   1.8s\n",
      "[CV 2/5] END base_score=0.25, booster=gbtree, learning_rate=0.1, max_depth=10, min_child_weight=3, n_estimators=100;, score=(train=-1347.231, test=-17501.332) total time=   0.5s\n",
      "[CV 4/5] END base_score=0.25, booster=gbtree, learning_rate=0.1, max_depth=10, min_child_weight=3, n_estimators=100;, score=(train=-1544.888, test=-15580.521) total time=   0.5s\n",
      "[12:21:39] WARNING: ../src/learner.cc:767: \n",
      "Parameters: { \"max_depth\", \"min_child_weight\" } are not used.\n",
      "\n",
      "[CV 2/5] END base_score=0.75, booster=gblinear, learning_rate=0.15, max_depth=5, min_child_weight=2, n_estimators=900;, score=(train=-16963.787, test=-21602.530) total time=   0.9s\n",
      "[CV 1/5] END base_score=0.5, booster=gbtree, learning_rate=0.15, max_depth=15, min_child_weight=3, n_estimators=500;, score=(train=-7.353, test=-15898.221) total time=   3.8s\n",
      "[CV 5/5] END base_score=0.5, booster=gbtree, learning_rate=0.15, max_depth=15, min_child_weight=3, n_estimators=500;, score=(train=-0.048, test=-17626.845) total time=   3.5s\n",
      "[12:21:47] WARNING: ../src/learner.cc:767: \n",
      "Parameters: { \"max_depth\", \"min_child_weight\" } are not used.\n",
      "\n",
      "[CV 4/5] END base_score=1, booster=gblinear, learning_rate=0.05, max_depth=5, min_child_weight=3, n_estimators=900;, score=(train=-17789.660, test=-19186.301) total time=   0.9s\n",
      "[CV 2/5] END base_score=0.25, booster=gbtree, learning_rate=0.15, max_depth=15, min_child_weight=2, n_estimators=1500;, score=(train=-7.331, test=-17373.494) total time=  11.8s\n",
      "[12:22:00] WARNING: ../src/learner.cc:767: \n",
      "Parameters: { \"max_depth\", \"min_child_weight\" } are not used.\n",
      "\n",
      "[CV 3/5] END base_score=0.25, booster=gblinear, learning_rate=0.05, max_depth=15, min_child_weight=2, n_estimators=500;, score=(train=-17082.955, test=-22976.168) total time=   0.7s\n",
      "[12:22:01] WARNING: ../src/learner.cc:767: \n",
      "Parameters: { \"max_depth\", \"min_child_weight\" } are not used.\n",
      "\n",
      "[CV 1/5] END base_score=0.75, booster=gblinear, learning_rate=0.1, max_depth=15, min_child_weight=2, n_estimators=100;, score=(train=-18862.047, test=-19221.506) total time=   0.2s\n",
      "[12:22:01] WARNING: ../src/learner.cc:767: \n",
      "Parameters: { \"max_depth\", \"min_child_weight\" } are not used.\n",
      "\n",
      "[CV 2/5] END base_score=0.75, booster=gblinear, learning_rate=0.1, max_depth=15, min_child_weight=2, n_estimators=100;, score=(train=-18099.350, test=-22625.715) total time=   0.2s\n",
      "[12:22:01] WARNING: ../src/learner.cc:767: \n",
      "Parameters: { \"max_depth\", \"min_child_weight\" } are not used.\n",
      "\n",
      "[CV 4/5] END base_score=0.75, booster=gblinear, learning_rate=0.1, max_depth=15, min_child_weight=2, n_estimators=100;, score=(train=-18723.907, test=-19706.997) total time=   0.1s\n",
      "[12:22:02] WARNING: ../src/learner.cc:767: \n",
      "Parameters: { \"max_depth\", \"min_child_weight\" } are not used.\n",
      "\n",
      "[12:20:43] WARNING: ../src/learner.cc:767: \n",
      "Parameters: { \"max_depth\", \"min_child_weight\" } are not used.\n",
      "\n",
      "[CV 1/5] END base_score=0.75, booster=gblinear, learning_rate=0.2, max_depth=15, min_child_weight=1, n_estimators=1500;, score=(train=-17540.179, test=-19128.860) total time=   2.0s\n",
      "[CV 3/5] END base_score=1, booster=gbtree, learning_rate=0.1, max_depth=3, min_child_weight=4, n_estimators=1100;, score=(train=-2142.780, test=-16899.716) total time=   2.3s\n",
      "[12:20:48] WARNING: ../src/learner.cc:767: \n",
      "Parameters: { \"max_depth\", \"min_child_weight\" } are not used.\n",
      "\n",
      "[CV 2/5] END base_score=0.75, booster=gblinear, learning_rate=0.1, max_depth=10, min_child_weight=4, n_estimators=500;, score=(train=-17072.213, test=-21839.145) total time=   0.6s\n",
      "[12:20:48] WARNING: ../src/learner.cc:767: \n",
      "Parameters: { \"max_depth\", \"min_child_weight\" } are not used.\n",
      "\n",
      "[CV 4/5] END base_score=0.75, booster=gblinear, learning_rate=0.1, max_depth=10, min_child_weight=4, n_estimators=500;, score=(train=-17704.084, test=-19170.074) total time=   0.5s\n",
      "[CV 2/5] END base_score=0.5, booster=gbtree, learning_rate=0.05, max_depth=15, min_child_weight=4, n_estimators=900;, score=(train=-16.163, test=-17893.242) total time=   6.4s\n",
      "[CV 5/5] END base_score=0.5, booster=gbtree, learning_rate=0.05, max_depth=15, min_child_weight=4, n_estimators=900;, score=(train=-38.432, test=-17683.593) total time=   5.9s\n",
      "[CV 4/5] END base_score=1, booster=gbtree, learning_rate=0.2, max_depth=2, min_child_weight=3, n_estimators=1500;, score=(train=-2555.910, test=-14741.165) total time=   2.9s\n",
      "[CV 3/5] END base_score=1, booster=gbtree, learning_rate=0.1, max_depth=10, min_child_weight=4, n_estimators=500;, score=(train=-57.798, test=-18124.522) total time=   2.8s\n",
      "[CV 2/5] END base_score=0.25, booster=gbtree, learning_rate=0.1, max_depth=2, min_child_weight=1, n_estimators=900;, score=(train=-6889.556, test=-17316.968) total time=   1.3s\n",
      "[CV 1/5] END base_score=0.25, booster=gbtree, learning_rate=0.1, max_depth=15, min_child_weight=3, n_estimators=900;, score=(train=-7.347, test=-16815.672) total time=   7.8s\n",
      "[CV 5/5] END base_score=0.25, booster=gbtree, learning_rate=0.1, max_depth=15, min_child_weight=3, n_estimators=900;, score=(train=-0.046, test=-18226.555) total time=   6.5s\n",
      "[12:21:23] WARNING: ../src/learner.cc:767: \n",
      "Parameters: { \"max_depth\", \"min_child_weight\" } are not used.\n",
      "\n",
      "[CV 2/5] END base_score=0.25, booster=gblinear, learning_rate=0.2, max_depth=10, min_child_weight=4, n_estimators=500;, score=(train=-16978.434, test=-21686.529) total time=   0.6s\n",
      "[12:21:23] WARNING: ../src/learner.cc:767: \n",
      "Parameters: { \"max_depth\", \"min_child_weight\" } are not used.\n",
      "\n",
      "[CV 4/5] END base_score=0.25, booster=gblinear, learning_rate=0.2, max_depth=10, min_child_weight=4, n_estimators=500;, score=(train=-17502.088, test=-19587.251) total time=   0.6s\n",
      "[12:21:24] WARNING: ../src/learner.cc:767: \n",
      "Parameters: { \"max_depth\", \"min_child_weight\" } are not used.\n",
      "\n",
      "[CV 1/5] END base_score=0.5, booster=gblinear, learning_rate=0.05, max_depth=3, min_child_weight=4, n_estimators=500;, score=(train=-18237.124, test=-18566.088) total time=   0.6s\n",
      "[12:21:24] WARNING: ../src/learner.cc:767: \n",
      "Parameters: { \"max_depth\", \"min_child_weight\" } are not used.\n",
      "\n",
      "[CV 3/5] END base_score=0.5, booster=gblinear, learning_rate=0.05, max_depth=3, min_child_weight=4, n_estimators=500;, score=(train=-17075.549, test=-22933.622) total time=   0.6s\n",
      "[CV 1/5] END base_score=1, booster=gbtree, learning_rate=0.1, max_depth=15, min_child_weight=1, n_estimators=900;, score=(train=-7.368, test=-17290.960) total time=   7.2s\n",
      "[CV 5/5] END base_score=1, booster=gbtree, learning_rate=0.1, max_depth=15, min_child_weight=1, n_estimators=900;, score=(train=-0.075, test=-18354.566) total time=   7.1s\n",
      "[12:21:39] WARNING: ../src/learner.cc:767: \n",
      "Parameters: { \"max_depth\", \"min_child_weight\" } are not used.\n",
      "\n",
      "[CV 4/5] END base_score=0.75, booster=gblinear, learning_rate=0.15, max_depth=5, min_child_weight=2, n_estimators=900;, score=(train=-17457.100, test=-19700.210) total time=   0.9s\n",
      "[CV 2/5] END base_score=0.5, booster=gbtree, learning_rate=0.15, max_depth=15, min_child_weight=3, n_estimators=500;, score=(train=-7.332, test=-17386.560) total time=   3.9s\n",
      "[12:21:44] WARNING: ../src/learner.cc:767: \n",
      "Parameters: { \"max_depth\", \"min_child_weight\" } are not used.\n",
      "\n",
      "[CV 2/5] END base_score=0.25, booster=gblinear, learning_rate=0.15, max_depth=2, min_child_weight=2, n_estimators=100;, score=(train=-17836.994, test=-22475.652) total time=   0.1s\n",
      "[12:21:44] WARNING: ../src/learner.cc:767: \n",
      "Parameters: { \"max_depth\", \"min_child_weight\" } are not used.\n",
      "\n",
      "[CV 4/5] END base_score=0.25, booster=gblinear, learning_rate=0.15, max_depth=2, min_child_weight=2, n_estimators=100;, score=(train=-18562.300, test=-19570.356) total time=   0.1s\n",
      "[12:21:45] WARNING: ../src/learner.cc:767: \n",
      "Parameters: { \"max_depth\", \"min_child_weight\" } are not used.\n",
      "\n",
      "[CV 2/5] END base_score=0.5, booster=gblinear, learning_rate=0.15, max_depth=5, min_child_weight=4, n_estimators=900;, score=(train=-16961.562, test=-21581.020) total time=   0.9s\n",
      "[12:21:45] WARNING: ../src/learner.cc:767: \n",
      "Parameters: { \"max_depth\", \"min_child_weight\" } are not used.\n",
      "\n",
      "[CV 5/5] END base_score=0.5, booster=gblinear, learning_rate=0.15, max_depth=5, min_child_weight=4, n_estimators=900;, score=(train=-15521.619, test=-21447.323) total time=   0.9s\n",
      "[12:21:46] WARNING: ../src/learner.cc:767: \n",
      "Parameters: { \"max_depth\", \"min_child_weight\" } are not used.\n",
      "\n",
      "[CV 2/5] END base_score=1, booster=gblinear, learning_rate=0.05, max_depth=15, min_child_weight=4, n_estimators=100;, score=(train=-18772.566, test=-23139.127) total time=   0.1s\n",
      "[12:21:46] WARNING: ../src/learner.cc:767: \n",
      "Parameters: { \"max_depth\", \"min_child_weight\" } are not used.\n",
      "\n",
      "[CV 5/5] END base_score=1, booster=gblinear, learning_rate=0.05, max_depth=15, min_child_weight=4, n_estimators=100;, score=(train=-17719.693, test=-22898.703) total time=   0.1s\n",
      "[12:21:47] WARNING: ../src/learner.cc:767: \n",
      "Parameters: { \"max_depth\", \"min_child_weight\" } are not used.\n",
      "\n",
      "[CV 1/5] END base_score=1, booster=gblinear, learning_rate=0.05, max_depth=5, min_child_weight=3, n_estimators=900;, score=(train=-17968.186, test=-18455.019) total time=   0.9s\n",
      "[12:21:47] WARNING: ../src/learner.cc:767: \n",
      "Parameters: { \"max_depth\", \"min_child_weight\" } are not used.\n",
      "\n",
      "[CV 5/5] END base_score=1, booster=gblinear, learning_rate=0.05, max_depth=5, min_child_weight=3, n_estimators=900;, score=(train=-15788.755, test=-21412.018) total time=   0.9s\n",
      "[CV 3/5] END base_score=0.25, booster=gbtree, learning_rate=0.15, max_depth=15, min_child_weight=2, n_estimators=1500;, score=(train=-0.036, test=-18066.879) total time=  11.1s\n",
      "[CV 5/5] END base_score=0.25, booster=gbtree, learning_rate=0.15, max_depth=15, min_child_weight=2, n_estimators=1500;, score=(train=-0.038, test=-17984.130) total time=  10.4s\n",
      "[CV 4/5] END base_score=0.5, booster=gbtree, learning_rate=0.15, max_depth=15, min_child_weight=3, n_estimators=1500;, score=(train=-7.328, test=-15336.811) total time=  11.1s\n",
      "[12:22:21] WARNING: ../src/learner.cc:767: \n",
      "Parameters: { \"max_depth\", \"min_child_weight\" } are not used.\n",
      "\n",
      "[CV 4/5] END base_score=0.75, booster=gblinear, learning_rate=0.05, max_depth=10, min_child_weight=2, n_estimators=1500;, score=(train=-17598.207, test=-19367.939) total time=   2.1s\n",
      "[CV 2/5] END base_score=0.25, booster=gbtree, learning_rate=0.2, max_depth=3, min_child_weight=3, n_estimators=900;, score=(train=-815.700, test=-17844.029) total time=   1.8s\n",
      "[CV 5/5] END base_score=0.25, booster=gbtree, learning_rate=0.2, max_depth=3, min_child_weight=3, n_estimators=900;, score=(train=-969.845, test=-18171.871) total time=   2.1s\n",
      "[12:22:27] WARNING: ../src/learner.cc:767: \n",
      "Parameters: { \"max_depth\", \"min_child_weight\" } are not used.\n",
      "\n",
      "[CV 5/5] END base_score=0.75, booster=gblinear, learning_rate=0.15, max_depth=2, min_child_weight=1, n_estimators=1100;, score=(train=-15517.954, test=-21524.867) total time=   1.2s\n",
      "[CV 1/5] END base_score=0.25, booster=gbtree, learning_rate=0.15, max_depth=5, min_child_weight=4, n_estimators=500;, score=(train=-365.020, test=-15367.031) total time=   1.5s\n",
      "[CV 2/5] END base_score=1, booster=gbtree, learning_rate=0.15, max_depth=5, min_child_weight=2, n_estimators=100;, score=(train=-4477.984, test=-17265.720) total time=   0.3s\n",
      "[CV 4/5] END base_score=1, booster=gbtree, learning_rate=0.15, max_depth=5, min_child_weight=2, n_estimators=100;, score=(train=-4573.639, test=-14786.792) total time=   0.3s\n",
      "[CV 1/5] END base_score=0.25, booster=gbtree, learning_rate=0.15, max_depth=15, min_child_weight=2, n_estimators=1500;, score=(train=-7.347, test=-16474.061) total time=  11.4s\n",
      "[12:22:00] WARNING: ../src/learner.cc:767: \n",
      "Parameters: { \"max_depth\", \"min_child_weight\" } are not used.\n",
      "\n",
      "[CV 1/5] END base_score=0.25, booster=gblinear, learning_rate=0.05, max_depth=15, min_child_weight=2, n_estimators=500;, score=(train=-18238.374, test=-18546.143) total time=   0.6s\n",
      "[12:22:00] WARNING: ../src/learner.cc:767: \n",
      "Parameters: { \"max_depth\", \"min_child_weight\" } are not used.\n",
      "\n",
      "[CV 2/5] END base_score=0.25, booster=gblinear, learning_rate=0.05, max_depth=15, min_child_weight=2, n_estimators=500;, score=(train=-17428.698, test=-22114.162) total time=   0.5s\n",
      "[12:22:01] WARNING: ../src/learner.cc:767: \n",
      "Parameters: { \"max_depth\", \"min_child_weight\" } are not used.\n",
      "\n",
      "[CV 4/5] END base_score=0.25, booster=gblinear, learning_rate=0.05, max_depth=15, min_child_weight=2, n_estimators=500;, score=(train=-18086.261, test=-19250.757) total time=   0.5s\n",
      "[12:22:01] WARNING: ../src/learner.cc:767: \n",
      "Parameters: { \"max_depth\", \"min_child_weight\" } are not used.\n",
      "\n",
      "[CV 3/5] END base_score=0.75, booster=gblinear, learning_rate=0.1, max_depth=15, min_child_weight=2, n_estimators=100;, score=(train=-17742.240, test=-23279.857) total time=   0.1s\n",
      "[12:22:01] WARNING: ../src/learner.cc:767: \n",
      "Parameters: { \"max_depth\", \"min_child_weight\" } are not used.\n",
      "\n",
      "[CV 5/5] END base_score=0.75, booster=gblinear, learning_rate=0.1, max_depth=15, min_child_weight=2, n_estimators=100;, score=(train=-17062.838, test=-22521.122) total time=   0.1s\n",
      "[12:22:02] WARNING: ../src/learner.cc:767: \n",
      "Parameters: { \"max_depth\", \"min_child_weight\" } are not used.\n",
      "\n",
      "[CV 3/5] END base_score=0.5, booster=gblinear, learning_rate=0.15, max_depth=3, min_child_weight=1, n_estimators=500;, score=(train=-16511.979, test=-22292.449) total time=   0.6s\n",
      "[CV 1/5] END base_score=0.75, booster=gbtree, learning_rate=0.15, max_depth=2, min_child_weight=3, n_estimators=500;, score=(train=-7381.876, test=-14920.322) total time=   0.8s\n",
      "[CV 4/5] END base_score=0.75, booster=gbtree, learning_rate=0.15, max_depth=2, min_child_weight=3, n_estimators=500;, score=(train=-7622.769, test=-14011.475) total time=   0.8s\n",
      "[12:22:04] WARNING: ../src/learner.cc:767: \n",
      "Parameters: { \"max_depth\", \"min_child_weight\" } are not used.\n",
      "\n",
      "[CV 3/5] END base_score=0.25, booster=gblinear, learning_rate=0.05, max_depth=15, min_child_weight=4, n_estimators=100;, score=(train=-18323.011, test=-23522.801) total time=   0.1s\n",
      "[12:22:04] WARNING: ../src/learner.cc:767: \n",
      "Parameters: { \"max_depth\", \"min_child_weight\" } are not used.\n",
      "\n",
      "[CV 5/5] END base_score=0.25, booster=gblinear, learning_rate=0.05, max_depth=15, min_child_weight=4, n_estimators=100;, score=(train=-17718.831, test=-22891.173) total time=   0.1s\n",
      "[CV 1/5] END base_score=0.5, booster=gbtree, learning_rate=0.15, max_depth=15, min_child_weight=3, n_estimators=1500;, score=(train=-7.334, test=-15898.176) total time=  11.9s\n",
      "[12:22:16] WARNING: ../src/learner.cc:767: \n",
      "Parameters: { \"max_depth\", \"min_child_weight\" } are not used.\n",
      "\n",
      "[CV 2/5] END base_score=1, booster=gblinear, learning_rate=0.2, max_depth=2, min_child_weight=3, n_estimators=1500;, score=(train=-16841.582, test=-21445.702) total time=   1.5s\n",
      "[12:22:17] WARNING: ../src/learner.cc:767: \n",
      "Parameters: { \"max_depth\", \"min_child_weight\" } are not used.\n",
      "\n",
      "[CV 4/5] END base_score=1, booster=gblinear, learning_rate=0.2, max_depth=2, min_child_weight=3, n_estimators=1500;, score=(train=-17317.531, test=-20057.994) total time=   1.5s\n",
      "[12:22:19] WARNING: ../src/learner.cc:767: \n",
      "Parameters: { \"max_depth\", \"min_child_weight\" } are not used.\n",
      "\n",
      "[CV 1/5] END base_score=0.75, booster=gblinear, learning_rate=0.05, max_depth=10, min_child_weight=2, n_estimators=1500;, score=(train=-17794.134, test=-18540.488) total time=   1.8s\n",
      "[12:22:21] WARNING: ../src/learner.cc:767: \n",
      "Parameters: { \"max_depth\", \"min_child_weight\" } are not used.\n",
      "\n",
      "[CV 3/5] END base_score=0.75, booster=gblinear, learning_rate=0.05, max_depth=10, min_child_weight=2, n_estimators=1500;, score=(train=-16534.440, test=-22333.310) total time=   1.8s\n",
      "[CV 1/5] END base_score=0.25, booster=gbtree, learning_rate=0.2, max_depth=3, min_child_weight=3, n_estimators=900;, score=(train=-955.215, test=-16418.226) total time=   2.0s\n",
      "[CV 4/5] END base_score=0.25, booster=gbtree, learning_rate=0.2, max_depth=3, min_child_weight=3, n_estimators=900;, score=(train=-885.194, test=-14693.251) total time=   2.0s\n",
      "[12:22:27] WARNING: ../src/learner.cc:767: \n",
      "Parameters: { \"max_depth\", \"min_child_weight\" } are not used.\n",
      "\n",
      "[CV 2/5] END base_score=0.75, booster=gblinear, learning_rate=0.15, max_depth=2, min_child_weight=1, n_estimators=1100;, score=(train=-16943.083, test=-21505.595) total time=   1.2s\n",
      "[12:22:28] WARNING: ../src/learner.cc:767: \n",
      "Parameters: { \"max_depth\", \"min_child_weight\" } are not used.\n",
      "\n",
      "[CV 2/5] END base_score=0.5, booster=gblinear, learning_rate=0.15, max_depth=15, min_child_weight=3, n_estimators=500;, score=(train=-16991.233, test=-21765.007) total time=   0.5s\n",
      "[12:22:28] WARNING: ../src/learner.cc:767: \n",
      "Parameters: { \"max_depth\", \"min_child_weight\" } are not used.\n",
      "\n",
      "[CV 4/5] END base_score=0.5, booster=gblinear, learning_rate=0.15, max_depth=15, min_child_weight=3, n_estimators=500;, score=(train=-17556.071, test=-19394.566) total time=   0.5s\n",
      "[CV 3/5] END base_score=0.25, booster=gbtree, learning_rate=0.15, max_depth=5, min_child_weight=4, n_estimators=500;, score=(train=-378.219, test=-16932.889) total time=   1.5s\n",
      "[CV 2/5] END base_score=0.5, booster=gbtree, learning_rate=0.1, max_depth=2, min_child_weight=1, n_estimators=100;, score=(train=-13666.552, test=-18253.065) total time=   0.2s\n",
      "[12:22:31] WARNING: ../src/learner.cc:767: \n",
      "Parameters: { \"max_depth\", \"min_child_weight\" } are not used.\n",
      "\n",
      "[CV 1/5] END base_score=1, booster=gblinear, learning_rate=0.15, max_depth=3, min_child_weight=2, n_estimators=900;, score=(train=-17673.012, test=-18793.107) total time=   1.0s\n",
      "[12:22:32] WARNING: ../src/learner.cc:767: \n",
      "Parameters: { \"max_depth\", \"min_child_weight\" } are not used.\n",
      "\n",
      "[CV 2/5] END base_score=0.25, booster=gblinear, learning_rate=0.1, max_depth=3, min_child_weight=4, n_estimators=1100;, score=(train=-16984.363, test=-21669.907) total time=   1.1s\n",
      "[12:22:33] WARNING: ../src/learner.cc:767: \n",
      "Parameters: { \"max_depth\", \"min_child_weight\" } are not used.\n",
      "\n",
      "[CV 1/5] END base_score=0.5, booster=gblinear, learning_rate=0.05, max_depth=15, min_child_weight=2, n_estimators=1500;, score=(train=-17794.783, test=-18554.923) total time=   1.5s\n",
      "[12:22:34] WARNING: ../src/learner.cc:767: \n",
      "Parameters: { \"max_depth\", \"min_child_weight\" } are not used.\n",
      "\n",
      "[CV 5/5] END base_score=0.5, booster=gblinear, learning_rate=0.05, max_depth=15, min_child_weight=2, n_estimators=1500;, score=(train=-15575.751, test=-21330.972) total time=   1.6s\n",
      "[CV 4/5] END base_score=0.75, booster=gbtree, learning_rate=0.1, max_depth=5, min_child_weight=2, n_estimators=1100;, score=(train=-87.004, test=-14176.650) total time=   3.3s\n",
      "[12:22:39] WARNING: ../src/learner.cc:767: \n",
      "Parameters: { \"max_depth\", \"min_child_weight\" } are not used.\n",
      "\n",
      "[CV 3/5] END base_score=1, booster=gblinear, learning_rate=0.1, max_depth=10, min_child_weight=2, n_estimators=1100;, score=(train=-16452.445, test=-22232.625) total time=   1.3s\n",
      "[12:22:40] WARNING: ../src/learner.cc:767: \n",
      "Parameters: { \"max_depth\", \"min_child_weight\" } are not used.\n",
      "\n",
      "[CV 1/5] END base_score=0.25, booster=gblinear, learning_rate=0.15, max_depth=5, min_child_weight=1, n_estimators=900;, score=(train=-17676.020, test=-18797.105) total time=   1.2s\n",
      "[12:22:42] WARNING: ../src/learner.cc:767: \n",
      "Parameters: { \"max_depth\", \"min_child_weight\" } are not used.\n",
      "\n"
     ]
    },
    {
     "data": {
      "text/plain": "RandomizedSearchCV(cv=5,\n                   estimator=XGBRegressor(base_score=None, booster=None,\n                                          callbacks=None,\n                                          colsample_bylevel=None,\n                                          colsample_bynode=None,\n                                          colsample_bytree=None,\n                                          early_stopping_rounds=None,\n                                          enable_categorical=False,\n                                          eval_metric=None, feature_types=None,\n                                          gamma=None, gpu_id=None,\n                                          grow_policy=None,\n                                          importance_type=None,\n                                          interaction_constraints=None,\n                                          learning_rate=...\n                                          predictor=None, random_state=None, ...),\n                   n_iter=50, n_jobs=4,\n                   param_distributions={'base_score': [0.25, 0.5, 0.75, 1],\n                                        'booster': ['gbtree', 'gblinear'],\n                                        'learning_rate': [0.05, 0.1, 0.15, 0.2],\n                                        'max_depth': [2, 3, 5, 10, 15],\n                                        'min_child_weight': [1, 2, 3, 4],\n                                        'n_estimators': [100, 500, 900, 1100,\n                                                         1500]},\n                   random_state=42, return_train_score=True,\n                   scoring='neg_mean_absolute_error', verbose=5)",
      "text/html": "<style>#sk-container-id-1 {color: black;}#sk-container-id-1 pre{padding: 0;}#sk-container-id-1 div.sk-toggleable {background-color: white;}#sk-container-id-1 label.sk-toggleable__label {cursor: pointer;display: block;width: 100%;margin-bottom: 0;padding: 0.3em;box-sizing: border-box;text-align: center;}#sk-container-id-1 label.sk-toggleable__label-arrow:before {content: \"▸\";float: left;margin-right: 0.25em;color: #696969;}#sk-container-id-1 label.sk-toggleable__label-arrow:hover:before {color: black;}#sk-container-id-1 div.sk-estimator:hover label.sk-toggleable__label-arrow:before {color: black;}#sk-container-id-1 div.sk-toggleable__content {max-height: 0;max-width: 0;overflow: hidden;text-align: left;background-color: #f0f8ff;}#sk-container-id-1 div.sk-toggleable__content pre {margin: 0.2em;color: black;border-radius: 0.25em;background-color: #f0f8ff;}#sk-container-id-1 input.sk-toggleable__control:checked~div.sk-toggleable__content {max-height: 200px;max-width: 100%;overflow: auto;}#sk-container-id-1 input.sk-toggleable__control:checked~label.sk-toggleable__label-arrow:before {content: \"▾\";}#sk-container-id-1 div.sk-estimator input.sk-toggleable__control:checked~label.sk-toggleable__label {background-color: #d4ebff;}#sk-container-id-1 div.sk-label input.sk-toggleable__control:checked~label.sk-toggleable__label {background-color: #d4ebff;}#sk-container-id-1 input.sk-hidden--visually {border: 0;clip: rect(1px 1px 1px 1px);clip: rect(1px, 1px, 1px, 1px);height: 1px;margin: -1px;overflow: hidden;padding: 0;position: absolute;width: 1px;}#sk-container-id-1 div.sk-estimator {font-family: monospace;background-color: #f0f8ff;border: 1px dotted black;border-radius: 0.25em;box-sizing: border-box;margin-bottom: 0.5em;}#sk-container-id-1 div.sk-estimator:hover {background-color: #d4ebff;}#sk-container-id-1 div.sk-parallel-item::after {content: \"\";width: 100%;border-bottom: 1px solid gray;flex-grow: 1;}#sk-container-id-1 div.sk-label:hover label.sk-toggleable__label {background-color: #d4ebff;}#sk-container-id-1 div.sk-serial::before {content: \"\";position: absolute;border-left: 1px solid gray;box-sizing: border-box;top: 0;bottom: 0;left: 50%;z-index: 0;}#sk-container-id-1 div.sk-serial {display: flex;flex-direction: column;align-items: center;background-color: white;padding-right: 0.2em;padding-left: 0.2em;position: relative;}#sk-container-id-1 div.sk-item {position: relative;z-index: 1;}#sk-container-id-1 div.sk-parallel {display: flex;align-items: stretch;justify-content: center;background-color: white;position: relative;}#sk-container-id-1 div.sk-item::before, #sk-container-id-1 div.sk-parallel-item::before {content: \"\";position: absolute;border-left: 1px solid gray;box-sizing: border-box;top: 0;bottom: 0;left: 50%;z-index: -1;}#sk-container-id-1 div.sk-parallel-item {display: flex;flex-direction: column;z-index: 1;position: relative;background-color: white;}#sk-container-id-1 div.sk-parallel-item:first-child::after {align-self: flex-end;width: 50%;}#sk-container-id-1 div.sk-parallel-item:last-child::after {align-self: flex-start;width: 50%;}#sk-container-id-1 div.sk-parallel-item:only-child::after {width: 0;}#sk-container-id-1 div.sk-dashed-wrapped {border: 1px dashed gray;margin: 0 0.4em 0.5em 0.4em;box-sizing: border-box;padding-bottom: 0.4em;background-color: white;}#sk-container-id-1 div.sk-label label {font-family: monospace;font-weight: bold;display: inline-block;line-height: 1.2em;}#sk-container-id-1 div.sk-label-container {text-align: center;}#sk-container-id-1 div.sk-container {/* jupyter's `normalize.less` sets `[hidden] { display: none; }` but bootstrap.min.css set `[hidden] { display: none !important; }` so we also need the `!important` here to be able to override the default hidden behavior on the sphinx rendered scikit-learn.org. See: https://github.com/scikit-learn/scikit-learn/issues/21755 */display: inline-block !important;position: relative;}#sk-container-id-1 div.sk-text-repr-fallback {display: none;}</style><div id=\"sk-container-id-1\" class=\"sk-top-container\"><div class=\"sk-text-repr-fallback\"><pre>RandomizedSearchCV(cv=5,\n                   estimator=XGBRegressor(base_score=None, booster=None,\n                                          callbacks=None,\n                                          colsample_bylevel=None,\n                                          colsample_bynode=None,\n                                          colsample_bytree=None,\n                                          early_stopping_rounds=None,\n                                          enable_categorical=False,\n                                          eval_metric=None, feature_types=None,\n                                          gamma=None, gpu_id=None,\n                                          grow_policy=None,\n                                          importance_type=None,\n                                          interaction_constraints=None,\n                                          learning_rate=...\n                                          predictor=None, random_state=None, ...),\n                   n_iter=50, n_jobs=4,\n                   param_distributions={&#x27;base_score&#x27;: [0.25, 0.5, 0.75, 1],\n                                        &#x27;booster&#x27;: [&#x27;gbtree&#x27;, &#x27;gblinear&#x27;],\n                                        &#x27;learning_rate&#x27;: [0.05, 0.1, 0.15, 0.2],\n                                        &#x27;max_depth&#x27;: [2, 3, 5, 10, 15],\n                                        &#x27;min_child_weight&#x27;: [1, 2, 3, 4],\n                                        &#x27;n_estimators&#x27;: [100, 500, 900, 1100,\n                                                         1500]},\n                   random_state=42, return_train_score=True,\n                   scoring=&#x27;neg_mean_absolute_error&#x27;, verbose=5)</pre><b>In a Jupyter environment, please rerun this cell to show the HTML representation or trust the notebook. <br />On GitHub, the HTML representation is unable to render, please try loading this page with nbviewer.org.</b></div><div class=\"sk-container\" hidden><div class=\"sk-item sk-dashed-wrapped\"><div class=\"sk-label-container\"><div class=\"sk-label sk-toggleable\"><input class=\"sk-toggleable__control sk-hidden--visually\" id=\"sk-estimator-id-1\" type=\"checkbox\" ><label for=\"sk-estimator-id-1\" class=\"sk-toggleable__label sk-toggleable__label-arrow\">RandomizedSearchCV</label><div class=\"sk-toggleable__content\"><pre>RandomizedSearchCV(cv=5,\n                   estimator=XGBRegressor(base_score=None, booster=None,\n                                          callbacks=None,\n                                          colsample_bylevel=None,\n                                          colsample_bynode=None,\n                                          colsample_bytree=None,\n                                          early_stopping_rounds=None,\n                                          enable_categorical=False,\n                                          eval_metric=None, feature_types=None,\n                                          gamma=None, gpu_id=None,\n                                          grow_policy=None,\n                                          importance_type=None,\n                                          interaction_constraints=None,\n                                          learning_rate=...\n                                          predictor=None, random_state=None, ...),\n                   n_iter=50, n_jobs=4,\n                   param_distributions={&#x27;base_score&#x27;: [0.25, 0.5, 0.75, 1],\n                                        &#x27;booster&#x27;: [&#x27;gbtree&#x27;, &#x27;gblinear&#x27;],\n                                        &#x27;learning_rate&#x27;: [0.05, 0.1, 0.15, 0.2],\n                                        &#x27;max_depth&#x27;: [2, 3, 5, 10, 15],\n                                        &#x27;min_child_weight&#x27;: [1, 2, 3, 4],\n                                        &#x27;n_estimators&#x27;: [100, 500, 900, 1100,\n                                                         1500]},\n                   random_state=42, return_train_score=True,\n                   scoring=&#x27;neg_mean_absolute_error&#x27;, verbose=5)</pre></div></div></div><div class=\"sk-parallel\"><div class=\"sk-parallel-item\"><div class=\"sk-item\"><div class=\"sk-label-container\"><div class=\"sk-label sk-toggleable\"><input class=\"sk-toggleable__control sk-hidden--visually\" id=\"sk-estimator-id-2\" type=\"checkbox\" ><label for=\"sk-estimator-id-2\" class=\"sk-toggleable__label sk-toggleable__label-arrow\">estimator: XGBRegressor</label><div class=\"sk-toggleable__content\"><pre>XGBRegressor(base_score=None, booster=None, callbacks=None,\n             colsample_bylevel=None, colsample_bynode=None,\n             colsample_bytree=None, early_stopping_rounds=None,\n             enable_categorical=False, eval_metric=None, feature_types=None,\n             gamma=None, gpu_id=None, grow_policy=None, importance_type=None,\n             interaction_constraints=None, learning_rate=None, max_bin=None,\n             max_cat_threshold=None, max_cat_to_onehot=None,\n             max_delta_step=None, max_depth=None, max_leaves=None,\n             min_child_weight=None, missing=nan, monotone_constraints=None,\n             n_estimators=100, n_jobs=None, num_parallel_tree=None,\n             predictor=None, random_state=None, ...)</pre></div></div></div><div class=\"sk-serial\"><div class=\"sk-item\"><div class=\"sk-estimator sk-toggleable\"><input class=\"sk-toggleable__control sk-hidden--visually\" id=\"sk-estimator-id-3\" type=\"checkbox\" ><label for=\"sk-estimator-id-3\" class=\"sk-toggleable__label sk-toggleable__label-arrow\">XGBRegressor</label><div class=\"sk-toggleable__content\"><pre>XGBRegressor(base_score=None, booster=None, callbacks=None,\n             colsample_bylevel=None, colsample_bynode=None,\n             colsample_bytree=None, early_stopping_rounds=None,\n             enable_categorical=False, eval_metric=None, feature_types=None,\n             gamma=None, gpu_id=None, grow_policy=None, importance_type=None,\n             interaction_constraints=None, learning_rate=None, max_bin=None,\n             max_cat_threshold=None, max_cat_to_onehot=None,\n             max_delta_step=None, max_depth=None, max_leaves=None,\n             min_child_weight=None, missing=nan, monotone_constraints=None,\n             n_estimators=100, n_jobs=None, num_parallel_tree=None,\n             predictor=None, random_state=None, ...)</pre></div></div></div></div></div></div></div></div></div></div>"
     },
     "execution_count": 42,
     "metadata": {},
     "output_type": "execute_result"
    }
   ],
   "source": [
    "random_cv.fit(X_train,y_train)"
   ],
   "metadata": {
    "collapsed": false,
    "ExecuteTime": {
     "end_time": "2023-07-27T09:22:49.817201952Z",
     "start_time": "2023-07-27T09:20:42.840130009Z"
    }
   }
  },
  {
   "cell_type": "code",
   "execution_count": 43,
   "outputs": [
    {
     "ename": "KeyError",
     "evalue": "'SalePrice'",
     "output_type": "error",
     "traceback": [
      "\u001B[0;31m---------------------------------------------------------------------------\u001B[0m",
      "\u001B[0;31mKeyError\u001B[0m                                  Traceback (most recent call last)",
      "File \u001B[0;32m~/Repos/estate_kaggle/prj/lib/python3.10/site-packages/pandas/core/indexes/base.py:3653\u001B[0m, in \u001B[0;36mIndex.get_loc\u001B[0;34m(self, key)\u001B[0m\n\u001B[1;32m   3652\u001B[0m \u001B[38;5;28;01mtry\u001B[39;00m:\n\u001B[0;32m-> 3653\u001B[0m     \u001B[38;5;28;01mreturn\u001B[39;00m \u001B[38;5;28;43mself\u001B[39;49m\u001B[38;5;241;43m.\u001B[39;49m\u001B[43m_engine\u001B[49m\u001B[38;5;241;43m.\u001B[39;49m\u001B[43mget_loc\u001B[49m\u001B[43m(\u001B[49m\u001B[43mcasted_key\u001B[49m\u001B[43m)\u001B[49m\n\u001B[1;32m   3654\u001B[0m \u001B[38;5;28;01mexcept\u001B[39;00m \u001B[38;5;167;01mKeyError\u001B[39;00m \u001B[38;5;28;01mas\u001B[39;00m err:\n",
      "File \u001B[0;32m~/Repos/estate_kaggle/prj/lib/python3.10/site-packages/pandas/_libs/index.pyx:147\u001B[0m, in \u001B[0;36mpandas._libs.index.IndexEngine.get_loc\u001B[0;34m()\u001B[0m\n",
      "File \u001B[0;32m~/Repos/estate_kaggle/prj/lib/python3.10/site-packages/pandas/_libs/index.pyx:155\u001B[0m, in \u001B[0;36mpandas._libs.index.IndexEngine.get_loc\u001B[0;34m()\u001B[0m\n",
      "File \u001B[0;32mpandas/_libs/index_class_helper.pxi:70\u001B[0m, in \u001B[0;36mpandas._libs.index.Int64Engine._check_type\u001B[0;34m()\u001B[0m\n",
      "\u001B[0;31mKeyError\u001B[0m: 'SalePrice'",
      "\nThe above exception was the direct cause of the following exception:\n",
      "\u001B[0;31mKeyError\u001B[0m                                  Traceback (most recent call last)",
      "Cell \u001B[0;32mIn[43], line 1\u001B[0m\n\u001B[0;32m----> 1\u001B[0m \u001B[43my_train\u001B[49m\u001B[43m[\u001B[49m\u001B[38;5;124;43m'\u001B[39;49m\u001B[38;5;124;43mSalePrice\u001B[39;49m\u001B[38;5;124;43m'\u001B[39;49m\u001B[43m]\u001B[49m\u001B[38;5;241m.\u001B[39mmean()\n",
      "File \u001B[0;32m~/Repos/estate_kaggle/prj/lib/python3.10/site-packages/pandas/core/series.py:1007\u001B[0m, in \u001B[0;36mSeries.__getitem__\u001B[0;34m(self, key)\u001B[0m\n\u001B[1;32m   1004\u001B[0m     \u001B[38;5;28;01mreturn\u001B[39;00m \u001B[38;5;28mself\u001B[39m\u001B[38;5;241m.\u001B[39m_values[key]\n\u001B[1;32m   1006\u001B[0m \u001B[38;5;28;01melif\u001B[39;00m key_is_scalar:\n\u001B[0;32m-> 1007\u001B[0m     \u001B[38;5;28;01mreturn\u001B[39;00m \u001B[38;5;28;43mself\u001B[39;49m\u001B[38;5;241;43m.\u001B[39;49m\u001B[43m_get_value\u001B[49m\u001B[43m(\u001B[49m\u001B[43mkey\u001B[49m\u001B[43m)\u001B[49m\n\u001B[1;32m   1009\u001B[0m \u001B[38;5;28;01mif\u001B[39;00m is_hashable(key):\n\u001B[1;32m   1010\u001B[0m     \u001B[38;5;66;03m# Otherwise index.get_value will raise InvalidIndexError\u001B[39;00m\n\u001B[1;32m   1011\u001B[0m     \u001B[38;5;28;01mtry\u001B[39;00m:\n\u001B[1;32m   1012\u001B[0m         \u001B[38;5;66;03m# For labels that don't resolve as scalars like tuples and frozensets\u001B[39;00m\n",
      "File \u001B[0;32m~/Repos/estate_kaggle/prj/lib/python3.10/site-packages/pandas/core/series.py:1116\u001B[0m, in \u001B[0;36mSeries._get_value\u001B[0;34m(self, label, takeable)\u001B[0m\n\u001B[1;32m   1113\u001B[0m     \u001B[38;5;28;01mreturn\u001B[39;00m \u001B[38;5;28mself\u001B[39m\u001B[38;5;241m.\u001B[39m_values[label]\n\u001B[1;32m   1115\u001B[0m \u001B[38;5;66;03m# Similar to Index.get_value, but we do not fall back to positional\u001B[39;00m\n\u001B[0;32m-> 1116\u001B[0m loc \u001B[38;5;241m=\u001B[39m \u001B[38;5;28;43mself\u001B[39;49m\u001B[38;5;241;43m.\u001B[39;49m\u001B[43mindex\u001B[49m\u001B[38;5;241;43m.\u001B[39;49m\u001B[43mget_loc\u001B[49m\u001B[43m(\u001B[49m\u001B[43mlabel\u001B[49m\u001B[43m)\u001B[49m\n\u001B[1;32m   1118\u001B[0m \u001B[38;5;28;01mif\u001B[39;00m is_integer(loc):\n\u001B[1;32m   1119\u001B[0m     \u001B[38;5;28;01mreturn\u001B[39;00m \u001B[38;5;28mself\u001B[39m\u001B[38;5;241m.\u001B[39m_values[loc]\n",
      "File \u001B[0;32m~/Repos/estate_kaggle/prj/lib/python3.10/site-packages/pandas/core/indexes/base.py:3655\u001B[0m, in \u001B[0;36mIndex.get_loc\u001B[0;34m(self, key)\u001B[0m\n\u001B[1;32m   3653\u001B[0m     \u001B[38;5;28;01mreturn\u001B[39;00m \u001B[38;5;28mself\u001B[39m\u001B[38;5;241m.\u001B[39m_engine\u001B[38;5;241m.\u001B[39mget_loc(casted_key)\n\u001B[1;32m   3654\u001B[0m \u001B[38;5;28;01mexcept\u001B[39;00m \u001B[38;5;167;01mKeyError\u001B[39;00m \u001B[38;5;28;01mas\u001B[39;00m err:\n\u001B[0;32m-> 3655\u001B[0m     \u001B[38;5;28;01mraise\u001B[39;00m \u001B[38;5;167;01mKeyError\u001B[39;00m(key) \u001B[38;5;28;01mfrom\u001B[39;00m \u001B[38;5;21;01merr\u001B[39;00m\n\u001B[1;32m   3656\u001B[0m \u001B[38;5;28;01mexcept\u001B[39;00m \u001B[38;5;167;01mTypeError\u001B[39;00m:\n\u001B[1;32m   3657\u001B[0m     \u001B[38;5;66;03m# If we have a listlike key, _check_indexing_error will raise\u001B[39;00m\n\u001B[1;32m   3658\u001B[0m     \u001B[38;5;66;03m#  InvalidIndexError. Otherwise we fall through and re-raise\u001B[39;00m\n\u001B[1;32m   3659\u001B[0m     \u001B[38;5;66;03m#  the TypeError.\u001B[39;00m\n\u001B[1;32m   3660\u001B[0m     \u001B[38;5;28mself\u001B[39m\u001B[38;5;241m.\u001B[39m_check_indexing_error(key)\n",
      "\u001B[0;31mKeyError\u001B[0m: 'SalePrice'"
     ]
    }
   ],
   "source": [],
   "metadata": {
    "collapsed": false,
    "ExecuteTime": {
     "end_time": "2023-07-27T09:27:39.413691896Z",
     "start_time": "2023-07-27T09:27:38.885378536Z"
    }
   }
  },
  {
   "cell_type": "code",
   "execution_count": null,
   "outputs": [],
   "source": [],
   "metadata": {
    "collapsed": false
   }
  }
 ],
 "metadata": {
  "kernelspec": {
   "display_name": "Python 3",
   "language": "python",
   "name": "python3"
  },
  "language_info": {
   "codemirror_mode": {
    "name": "ipython",
    "version": 2
   },
   "file_extension": ".py",
   "mimetype": "text/x-python",
   "name": "python",
   "nbconvert_exporter": "python",
   "pygments_lexer": "ipython2",
   "version": "2.7.6"
  }
 },
 "nbformat": 4,
 "nbformat_minor": 0
}
